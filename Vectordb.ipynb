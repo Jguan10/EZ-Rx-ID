{
 "cells": [
  {
   "cell_type": "markdown",
   "metadata": {},
   "source": [
    "Code for EDA and to embed columns of the dataset"
   ]
  },
  {
   "cell_type": "code",
   "execution_count": null,
   "metadata": {},
   "outputs": [],
   "source": [
    "import pandas as pd \n",
    "import numpy as np\n",
    "import re\n",
    "\n"
   ]
  },
  {
   "cell_type": "code",
   "execution_count": 27,
   "metadata": {},
   "outputs": [],
   "source": [
    "df = pd.read_csv('Data/DL1(5663).csv')"
   ]
  },
  {
   "cell_type": "markdown",
   "metadata": {},
   "source": [
    "The adverse reactions section includes Clinical Trial data, this code extracts that section and places it into a separate column"
   ]
  },
  {
   "cell_type": "code",
   "execution_count": 28,
   "metadata": {},
   "outputs": [],
   "source": [
    "def split_clinical_trials(text):\n",
    "    if isinstance(text, str) and '6.1 Clinical Trials Experience' in text:\n",
    "        parts = text.split('6.1 Clinical Trials Experience', 1)\n",
    "        return parts[0].strip(), parts[1].strip()  \n",
    "    return text, None "
   ]
  },
  {
   "cell_type": "code",
   "execution_count": 29,
   "metadata": {},
   "outputs": [],
   "source": [
    "adverse_reactions_cleaned = []\n",
    "clinical_trials_info = []\n",
    "\n",
    "for text in df['Adverse Reactions']:\n",
    "    adverse_part, clinical_part = split_clinical_trials(text)\n",
    "    adverse_reactions_cleaned.append(adverse_part)\n",
    "    clinical_trials_info.append(clinical_part)\n",
    "\n",
    "df['Adverse Reactions'] = adverse_reactions_cleaned\n",
    "df['Clinical Trials'] = clinical_trials_info"
   ]
  },
  {
   "cell_type": "code",
   "execution_count": 30,
   "metadata": {},
   "outputs": [],
   "source": [
    "df.drop(columns={'NDC', 'Brand Name', 'Clinical Studies'},inplace=True)\n",
    "df.replace(\"Unknown\", \"\", inplace=True)\n",
    "df.replace(np.nan, \"\", inplace=True)\n",
    "df.replace(\"None\", \"\", inplace=True)"
   ]
  },
  {
   "cell_type": "code",
   "execution_count": 31,
   "metadata": {},
   "outputs": [
    {
     "data": {
      "text/html": [
       "<div>\n",
       "<style scoped>\n",
       "    .dataframe tbody tr th:only-of-type {\n",
       "        vertical-align: middle;\n",
       "    }\n",
       "\n",
       "    .dataframe tbody tr th {\n",
       "        vertical-align: top;\n",
       "    }\n",
       "\n",
       "    .dataframe thead th {\n",
       "        text-align: right;\n",
       "    }\n",
       "</style>\n",
       "<table border=\"1\" class=\"dataframe\">\n",
       "  <thead>\n",
       "    <tr style=\"text-align: right;\">\n",
       "      <th></th>\n",
       "      <th>Generic Name</th>\n",
       "      <th>Indications</th>\n",
       "      <th>Purpose</th>\n",
       "      <th>Contraindications</th>\n",
       "      <th>Warnings</th>\n",
       "      <th>Boxed Warning</th>\n",
       "      <th>Adverse Reactions</th>\n",
       "      <th>Use in Specific Populations</th>\n",
       "      <th>Dosage and Administration</th>\n",
       "      <th>Clinical Trials</th>\n",
       "    </tr>\n",
       "  </thead>\n",
       "  <tbody>\n",
       "    <tr>\n",
       "      <th>0</th>\n",
       "      <td>ACETAMINOPHEN, GUAIFENESIN, AND PHENYLEPHRINE ...</td>\n",
       "      <td>Uses temporarily relieves these symptoms assoc...</td>\n",
       "      <td></td>\n",
       "      <td></td>\n",
       "      <td></td>\n",
       "      <td></td>\n",
       "      <td></td>\n",
       "      <td></td>\n",
       "      <td>Directions do not take more than directed (see...</td>\n",
       "      <td></td>\n",
       "    </tr>\n",
       "    <tr>\n",
       "      <th>1</th>\n",
       "      <td>AMLODIPINE AND OLMESARTAN MEDOXOMIL</td>\n",
       "      <td>1 INDICATIONS AND USAGE Amlodipine and olmesar...</td>\n",
       "      <td>11 DESCRIPTION Amlodipine and olmesartan medox...</td>\n",
       "      <td>4 CONTRAINDICATIONS Do not co-administer alisk...</td>\n",
       "      <td></td>\n",
       "      <td>WARNING: FETAL TOXICITY When pregnancy is dete...</td>\n",
       "      <td>6 ADVERSE REACTIONS Most common adverse reacti...</td>\n",
       "      <td>8 USE IN SPECIFIC POPULATIONS Lactation: Breas...</td>\n",
       "      <td>2 DOSAGE AND ADMINISTRATION The usual starting...</td>\n",
       "      <td>Because clinical studies are conducted under w...</td>\n",
       "    </tr>\n",
       "    <tr>\n",
       "      <th>2</th>\n",
       "      <td>ACETAMINOPHEN, DEXTROMETHORPHAN HBR, DOXYLAMIN...</td>\n",
       "      <td>Uses temporarily relieves these symptoms due t...</td>\n",
       "      <td></td>\n",
       "      <td></td>\n",
       "      <td></td>\n",
       "      <td></td>\n",
       "      <td></td>\n",
       "      <td></td>\n",
       "      <td>Directions do not take more than the recommend...</td>\n",
       "      <td></td>\n",
       "    </tr>\n",
       "    <tr>\n",
       "      <th>3</th>\n",
       "      <td>OCTINOXATE, TITANIUM DIOXIDE</td>\n",
       "      <td>Helps prevent sunburn</td>\n",
       "      <td></td>\n",
       "      <td></td>\n",
       "      <td></td>\n",
       "      <td></td>\n",
       "      <td></td>\n",
       "      <td></td>\n",
       "      <td>Apply liberally 15 minutes before sun exposure...</td>\n",
       "      <td></td>\n",
       "    </tr>\n",
       "    <tr>\n",
       "      <th>4</th>\n",
       "      <td>ACONITED7, AGARICUS MUSD6, ANACARDIUMD7, GELSE...</td>\n",
       "      <td>Uses Temporarily relieves anxiousness, poor se...</td>\n",
       "      <td></td>\n",
       "      <td></td>\n",
       "      <td></td>\n",
       "      <td></td>\n",
       "      <td></td>\n",
       "      <td></td>\n",
       "      <td>How to Use Mix with half a cup of water 3-4 ti...</td>\n",
       "      <td></td>\n",
       "    </tr>\n",
       "  </tbody>\n",
       "</table>\n",
       "</div>"
      ],
      "text/plain": [
       "                                        Generic Name  \\\n",
       "0  ACETAMINOPHEN, GUAIFENESIN, AND PHENYLEPHRINE ...   \n",
       "1                AMLODIPINE AND OLMESARTAN MEDOXOMIL   \n",
       "2  ACETAMINOPHEN, DEXTROMETHORPHAN HBR, DOXYLAMIN...   \n",
       "3                       OCTINOXATE, TITANIUM DIOXIDE   \n",
       "4  ACONITED7, AGARICUS MUSD6, ANACARDIUMD7, GELSE...   \n",
       "\n",
       "                                         Indications  \\\n",
       "0  Uses temporarily relieves these symptoms assoc...   \n",
       "1  1 INDICATIONS AND USAGE Amlodipine and olmesar...   \n",
       "2  Uses temporarily relieves these symptoms due t...   \n",
       "3                              Helps prevent sunburn   \n",
       "4  Uses Temporarily relieves anxiousness, poor se...   \n",
       "\n",
       "                                             Purpose  \\\n",
       "0                                                      \n",
       "1  11 DESCRIPTION Amlodipine and olmesartan medox...   \n",
       "2                                                      \n",
       "3                                                      \n",
       "4                                                      \n",
       "\n",
       "                                   Contraindications Warnings  \\\n",
       "0                                                               \n",
       "1  4 CONTRAINDICATIONS Do not co-administer alisk...            \n",
       "2                                                               \n",
       "3                                                               \n",
       "4                                                               \n",
       "\n",
       "                                       Boxed Warning  \\\n",
       "0                                                      \n",
       "1  WARNING: FETAL TOXICITY When pregnancy is dete...   \n",
       "2                                                      \n",
       "3                                                      \n",
       "4                                                      \n",
       "\n",
       "                                   Adverse Reactions  \\\n",
       "0                                                      \n",
       "1  6 ADVERSE REACTIONS Most common adverse reacti...   \n",
       "2                                                      \n",
       "3                                                      \n",
       "4                                                      \n",
       "\n",
       "                         Use in Specific Populations  \\\n",
       "0                                                      \n",
       "1  8 USE IN SPECIFIC POPULATIONS Lactation: Breas...   \n",
       "2                                                      \n",
       "3                                                      \n",
       "4                                                      \n",
       "\n",
       "                           Dosage and Administration  \\\n",
       "0  Directions do not take more than directed (see...   \n",
       "1  2 DOSAGE AND ADMINISTRATION The usual starting...   \n",
       "2  Directions do not take more than the recommend...   \n",
       "3  Apply liberally 15 minutes before sun exposure...   \n",
       "4  How to Use Mix with half a cup of water 3-4 ti...   \n",
       "\n",
       "                                     Clinical Trials  \n",
       "0                                                     \n",
       "1  Because clinical studies are conducted under w...  \n",
       "2                                                     \n",
       "3                                                     \n",
       "4                                                     "
      ]
     },
     "execution_count": 31,
     "metadata": {},
     "output_type": "execute_result"
    }
   ],
   "source": [
    "df.head(5)"
   ]
  },
  {
   "cell_type": "markdown",
   "metadata": {},
   "source": [
    "Adverse Reactions has [see Warnings and Precautions] for every symptom listed, this code removes it for clarity"
   ]
  },
  {
   "cell_type": "code",
   "execution_count": 32,
   "metadata": {},
   "outputs": [],
   "source": [
    "def remove_brackets(text):\n",
    "    if pd.isna(text) or text == \"\":\n",
    "        return text  \n",
    "    return re.sub(r\"\\[.*?\\]|\\(.*?\\)|\\{.*?\\}\", \"\", text).strip()  \n",
    "\n",
    "df[\"Adverse Reactions\"] = df[\"Adverse Reactions\"].apply(remove_brackets)"
   ]
  },
  {
   "cell_type": "markdown",
   "metadata": {},
   "source": [
    "The data currently includes the column name and a number, this code removes it for clarity"
   ]
  },
  {
   "cell_type": "code",
   "execution_count": 33,
   "metadata": {},
   "outputs": [],
   "source": [
    "def clean_column_text(text, column_name):\n",
    "    if text: \n",
    "        column_name_regex = re.escape(column_name) \n",
    "        cleaned_text = re.sub(r\"^\\d+\\s+\" + column_name_regex + r\"\\s*\", \"\", text, count=1)\n",
    "        return cleaned_text\n",
    "    return text"
   ]
  },
  {
   "cell_type": "code",
   "execution_count": 34,
   "metadata": {},
   "outputs": [
    {
     "data": {
      "text/html": [
       "<div>\n",
       "<style scoped>\n",
       "    .dataframe tbody tr th:only-of-type {\n",
       "        vertical-align: middle;\n",
       "    }\n",
       "\n",
       "    .dataframe tbody tr th {\n",
       "        vertical-align: top;\n",
       "    }\n",
       "\n",
       "    .dataframe thead th {\n",
       "        text-align: right;\n",
       "    }\n",
       "</style>\n",
       "<table border=\"1\" class=\"dataframe\">\n",
       "  <thead>\n",
       "    <tr style=\"text-align: right;\">\n",
       "      <th></th>\n",
       "      <th>Generic Name</th>\n",
       "      <th>Indications</th>\n",
       "      <th>Purpose</th>\n",
       "      <th>Contraindications</th>\n",
       "      <th>Warnings</th>\n",
       "      <th>Boxed Warning</th>\n",
       "      <th>Adverse Reactions</th>\n",
       "      <th>Use in Specific Populations</th>\n",
       "      <th>Dosage and Administration</th>\n",
       "      <th>Clinical Trials</th>\n",
       "    </tr>\n",
       "  </thead>\n",
       "  <tbody>\n",
       "    <tr>\n",
       "      <th>0</th>\n",
       "      <td>ACETAMINOPHEN, GUAIFENESIN, AND PHENYLEPHRINE ...</td>\n",
       "      <td>Uses temporarily relieves these symptoms assoc...</td>\n",
       "      <td></td>\n",
       "      <td></td>\n",
       "      <td></td>\n",
       "      <td></td>\n",
       "      <td></td>\n",
       "      <td></td>\n",
       "      <td>Directions do not take more than directed (see...</td>\n",
       "      <td></td>\n",
       "    </tr>\n",
       "    <tr>\n",
       "      <th>1</th>\n",
       "      <td>AMLODIPINE AND OLMESARTAN MEDOXOMIL</td>\n",
       "      <td>Amlodipine and olmesartan medoxomil tablets ar...</td>\n",
       "      <td>Amlodipine and olmesartan medoxomil provided a...</td>\n",
       "      <td>Do not co-administer aliskiren with amlodipine...</td>\n",
       "      <td></td>\n",
       "      <td>WARNING: FETAL TOXICITY When pregnancy is dete...</td>\n",
       "      <td>Most common adverse reaction  is edema  . To r...</td>\n",
       "      <td>Lactation: Breastfeeding is not recommended ( ...</td>\n",
       "      <td>The usual starting dose of amlodipine and olme...</td>\n",
       "      <td>Because clinical studies are conducted under w...</td>\n",
       "    </tr>\n",
       "    <tr>\n",
       "      <th>2</th>\n",
       "      <td>ACETAMINOPHEN, DEXTROMETHORPHAN HBR, DOXYLAMIN...</td>\n",
       "      <td>Uses temporarily relieves these symptoms due t...</td>\n",
       "      <td></td>\n",
       "      <td></td>\n",
       "      <td></td>\n",
       "      <td></td>\n",
       "      <td></td>\n",
       "      <td></td>\n",
       "      <td>Directions do not take more than the recommend...</td>\n",
       "      <td></td>\n",
       "    </tr>\n",
       "    <tr>\n",
       "      <th>3</th>\n",
       "      <td>OCTINOXATE, TITANIUM DIOXIDE</td>\n",
       "      <td>Helps prevent sunburn</td>\n",
       "      <td></td>\n",
       "      <td></td>\n",
       "      <td></td>\n",
       "      <td></td>\n",
       "      <td></td>\n",
       "      <td></td>\n",
       "      <td>Apply liberally 15 minutes before sun exposure...</td>\n",
       "      <td></td>\n",
       "    </tr>\n",
       "    <tr>\n",
       "      <th>4</th>\n",
       "      <td>ACONITED7, AGARICUS MUSD6, ANACARDIUMD7, GELSE...</td>\n",
       "      <td>Uses Temporarily relieves anxiousness, poor se...</td>\n",
       "      <td></td>\n",
       "      <td></td>\n",
       "      <td></td>\n",
       "      <td></td>\n",
       "      <td></td>\n",
       "      <td></td>\n",
       "      <td>How to Use Mix with half a cup of water 3-4 ti...</td>\n",
       "      <td></td>\n",
       "    </tr>\n",
       "  </tbody>\n",
       "</table>\n",
       "</div>"
      ],
      "text/plain": [
       "                                        Generic Name  \\\n",
       "0  ACETAMINOPHEN, GUAIFENESIN, AND PHENYLEPHRINE ...   \n",
       "1                AMLODIPINE AND OLMESARTAN MEDOXOMIL   \n",
       "2  ACETAMINOPHEN, DEXTROMETHORPHAN HBR, DOXYLAMIN...   \n",
       "3                       OCTINOXATE, TITANIUM DIOXIDE   \n",
       "4  ACONITED7, AGARICUS MUSD6, ANACARDIUMD7, GELSE...   \n",
       "\n",
       "                                         Indications  \\\n",
       "0  Uses temporarily relieves these symptoms assoc...   \n",
       "1  Amlodipine and olmesartan medoxomil tablets ar...   \n",
       "2  Uses temporarily relieves these symptoms due t...   \n",
       "3                              Helps prevent sunburn   \n",
       "4  Uses Temporarily relieves anxiousness, poor se...   \n",
       "\n",
       "                                             Purpose  \\\n",
       "0                                                      \n",
       "1  Amlodipine and olmesartan medoxomil provided a...   \n",
       "2                                                      \n",
       "3                                                      \n",
       "4                                                      \n",
       "\n",
       "                                   Contraindications Warnings  \\\n",
       "0                                                               \n",
       "1  Do not co-administer aliskiren with amlodipine...            \n",
       "2                                                               \n",
       "3                                                               \n",
       "4                                                               \n",
       "\n",
       "                                       Boxed Warning  \\\n",
       "0                                                      \n",
       "1  WARNING: FETAL TOXICITY When pregnancy is dete...   \n",
       "2                                                      \n",
       "3                                                      \n",
       "4                                                      \n",
       "\n",
       "                                   Adverse Reactions  \\\n",
       "0                                                      \n",
       "1  Most common adverse reaction  is edema  . To r...   \n",
       "2                                                      \n",
       "3                                                      \n",
       "4                                                      \n",
       "\n",
       "                         Use in Specific Populations  \\\n",
       "0                                                      \n",
       "1  Lactation: Breastfeeding is not recommended ( ...   \n",
       "2                                                      \n",
       "3                                                      \n",
       "4                                                      \n",
       "\n",
       "                           Dosage and Administration  \\\n",
       "0  Directions do not take more than directed (see...   \n",
       "1  The usual starting dose of amlodipine and olme...   \n",
       "2  Directions do not take more than the recommend...   \n",
       "3  Apply liberally 15 minutes before sun exposure...   \n",
       "4  How to Use Mix with half a cup of water 3-4 ti...   \n",
       "\n",
       "                                     Clinical Trials  \n",
       "0                                                     \n",
       "1  Because clinical studies are conducted under w...  \n",
       "2                                                     \n",
       "3                                                     \n",
       "4                                                     "
      ]
     },
     "execution_count": 34,
     "metadata": {},
     "output_type": "execute_result"
    }
   ],
   "source": [
    "df[\"Adverse Reactions\"] = df[\"Adverse Reactions\"].apply(lambda x: clean_column_text(x, \"ADVERSE REACTIONS\"))\n",
    "df[\"Indications\"] = df[\"Indications\"].apply(lambda x: clean_column_text(x, \"INDICATIONS AND USAGE\"))\n",
    "df[\"Purpose\"] = df[\"Purpose\"].apply(lambda x: clean_column_text(x, \"DESCRIPTION\"))\n",
    "df[\"Contraindications\"] = df[\"Contraindications\"].apply(lambda x: clean_column_text(x, \"CONTRAINDICATIONS\"))\n",
    "df[\"Warnings\"] = df[\"Warnings\"].apply(lambda x: clean_column_text(x, \"WARNINGS\"))\n",
    "df[\"Use in Specific Populations\"] = df[\"Use in Specific Populations\"].apply(lambda x: clean_column_text(x, \"USE IN SPECIFIC POPULATIONS\"))\n",
    "df[\"Dosage and Administration\"] = df[\"Dosage and Administration\"].apply(lambda x: clean_column_text(x, \"DOSAGE AND ADMINISTRATION\"))\n",
    "df.head(5)"
   ]
  },
  {
   "cell_type": "markdown",
   "metadata": {},
   "source": [
    "The idea is that depending on the user query, different context will be given to the model to work around model tokenization constraints\n",
    "\n",
    "I.E. if the query asks about specific populations that the medication may not be good for (like a medicine shouldn't be used if pregnant) then we can return context about it \n",
    "\n",
    "Otherwise if the query is more general, we can return a general summary based on the uses, warnings, and reactions\n",
    "\n",
    "The categories will be summary, clinical studies, uses in specific populations, dosage and administration"
   ]
  },
  {
   "cell_type": "code",
   "execution_count": 35,
   "metadata": {},
   "outputs": [],
   "source": [
    "def process_column(df, column_name):\n",
    "\n",
    "    return df[column_name].apply(\n",
    "        lambda x: f\"Name: {df.loc[df[column_name] == x, 'Generic Name'].values[0]} | {column_name}: {x}\" \n",
    "        if x != \"\" and pd.notna(x) and not df.loc[df[column_name] == x, \"Generic Name\"].empty \n",
    "        else x\n",
    "    )"
   ]
  },
  {
   "cell_type": "code",
   "execution_count": null,
   "metadata": {},
   "outputs": [],
   "source": [
    "df['Summary'] = 'Summary of ' + df['Generic Name'] + ' | Uses: ' + df['Indications'] + ' and ' + df['Purpose'] + ' | Warnings: ' + df['Boxed Warning'] + ' and ' + df['Warnings'] + ' | Reactions: ' + df['Adverse Reactions']\n",
    "df['Clinical'] = process_column(df, 'Clinical Trials')\n",
    "df['Specific Populations'] = process_column(df, 'Use in Specific Populations')\n",
    "df['Dosage'] = process_column(df, 'Dosage and Administration')"
   ]
  },
  {
   "cell_type": "code",
   "execution_count": 37,
   "metadata": {},
   "outputs": [
    {
     "data": {
      "text/html": [
       "<div>\n",
       "<style scoped>\n",
       "    .dataframe tbody tr th:only-of-type {\n",
       "        vertical-align: middle;\n",
       "    }\n",
       "\n",
       "    .dataframe tbody tr th {\n",
       "        vertical-align: top;\n",
       "    }\n",
       "\n",
       "    .dataframe thead th {\n",
       "        text-align: right;\n",
       "    }\n",
       "</style>\n",
       "<table border=\"1\" class=\"dataframe\">\n",
       "  <thead>\n",
       "    <tr style=\"text-align: right;\">\n",
       "      <th></th>\n",
       "      <th>Generic Name</th>\n",
       "      <th>Summary</th>\n",
       "      <th>Clinical</th>\n",
       "      <th>Specific Populations</th>\n",
       "      <th>Dosage</th>\n",
       "    </tr>\n",
       "  </thead>\n",
       "  <tbody>\n",
       "    <tr>\n",
       "      <th>0</th>\n",
       "      <td>ACETAMINOPHEN, GUAIFENESIN, AND PHENYLEPHRINE ...</td>\n",
       "      <td>Summary of ACETAMINOPHEN, GUAIFENESIN, AND PHE...</td>\n",
       "      <td></td>\n",
       "      <td></td>\n",
       "      <td>Name: ACETAMINOPHEN, GUAIFENESIN, AND PHENYLEP...</td>\n",
       "    </tr>\n",
       "    <tr>\n",
       "      <th>1</th>\n",
       "      <td>AMLODIPINE AND OLMESARTAN MEDOXOMIL</td>\n",
       "      <td>Summary of AMLODIPINE AND OLMESARTAN MEDOXOMIL...</td>\n",
       "      <td>Name: AMLODIPINE AND OLMESARTAN MEDOXOMIL | Cl...</td>\n",
       "      <td>Name: AMLODIPINE AND OLMESARTAN MEDOXOMIL | Us...</td>\n",
       "      <td>Name: AMLODIPINE AND OLMESARTAN MEDOXOMIL | Do...</td>\n",
       "    </tr>\n",
       "    <tr>\n",
       "      <th>2</th>\n",
       "      <td>ACETAMINOPHEN, DEXTROMETHORPHAN HBR, DOXYLAMIN...</td>\n",
       "      <td>Summary of ACETAMINOPHEN, DEXTROMETHORPHAN HBR...</td>\n",
       "      <td></td>\n",
       "      <td></td>\n",
       "      <td>Name: ACETAMINOPHEN, DEXTROMETHORPHAN HBR, DOX...</td>\n",
       "    </tr>\n",
       "    <tr>\n",
       "      <th>3</th>\n",
       "      <td>OCTINOXATE, TITANIUM DIOXIDE</td>\n",
       "      <td>Summary of OCTINOXATE, TITANIUM DIOXIDE | Uses...</td>\n",
       "      <td></td>\n",
       "      <td></td>\n",
       "      <td>Name: OCTINOXATE, TITANIUM DIOXIDE | Dosage an...</td>\n",
       "    </tr>\n",
       "    <tr>\n",
       "      <th>4</th>\n",
       "      <td>ACONITED7, AGARICUS MUSD6, ANACARDIUMD7, GELSE...</td>\n",
       "      <td>Summary of ACONITED7, AGARICUS MUSD6, ANACARDI...</td>\n",
       "      <td></td>\n",
       "      <td></td>\n",
       "      <td>Name: ACONITED7, AGARICUS MUSD6, ANACARDIUMD7,...</td>\n",
       "    </tr>\n",
       "  </tbody>\n",
       "</table>\n",
       "</div>"
      ],
      "text/plain": [
       "                                        Generic Name  \\\n",
       "0  ACETAMINOPHEN, GUAIFENESIN, AND PHENYLEPHRINE ...   \n",
       "1                AMLODIPINE AND OLMESARTAN MEDOXOMIL   \n",
       "2  ACETAMINOPHEN, DEXTROMETHORPHAN HBR, DOXYLAMIN...   \n",
       "3                       OCTINOXATE, TITANIUM DIOXIDE   \n",
       "4  ACONITED7, AGARICUS MUSD6, ANACARDIUMD7, GELSE...   \n",
       "\n",
       "                                             Summary  \\\n",
       "0  Summary of ACETAMINOPHEN, GUAIFENESIN, AND PHE...   \n",
       "1  Summary of AMLODIPINE AND OLMESARTAN MEDOXOMIL...   \n",
       "2  Summary of ACETAMINOPHEN, DEXTROMETHORPHAN HBR...   \n",
       "3  Summary of OCTINOXATE, TITANIUM DIOXIDE | Uses...   \n",
       "4  Summary of ACONITED7, AGARICUS MUSD6, ANACARDI...   \n",
       "\n",
       "                                            Clinical  \\\n",
       "0                                                      \n",
       "1  Name: AMLODIPINE AND OLMESARTAN MEDOXOMIL | Cl...   \n",
       "2                                                      \n",
       "3                                                      \n",
       "4                                                      \n",
       "\n",
       "                                Specific Populations  \\\n",
       "0                                                      \n",
       "1  Name: AMLODIPINE AND OLMESARTAN MEDOXOMIL | Us...   \n",
       "2                                                      \n",
       "3                                                      \n",
       "4                                                      \n",
       "\n",
       "                                              Dosage  \n",
       "0  Name: ACETAMINOPHEN, GUAIFENESIN, AND PHENYLEP...  \n",
       "1  Name: AMLODIPINE AND OLMESARTAN MEDOXOMIL | Do...  \n",
       "2  Name: ACETAMINOPHEN, DEXTROMETHORPHAN HBR, DOX...  \n",
       "3  Name: OCTINOXATE, TITANIUM DIOXIDE | Dosage an...  \n",
       "4  Name: ACONITED7, AGARICUS MUSD6, ANACARDIUMD7,...  "
      ]
     },
     "execution_count": 37,
     "metadata": {},
     "output_type": "execute_result"
    }
   ],
   "source": [
    "vectordf = df[['Generic Name', 'Summary', 'Clinical', 'Specific Populations', 'Dosage']]\n",
    "vectordf.head(5)"
   ]
  },
  {
   "cell_type": "code",
   "execution_count": 38,
   "metadata": {},
   "outputs": [],
   "source": [
    "vectordf.to_csv('vectordb.csv', index=False)"
   ]
  },
  {
   "cell_type": "markdown",
   "metadata": {},
   "source": [
    "Embeddings and faiss metadata index generated here"
   ]
  },
  {
   "cell_type": "code",
   "execution_count": 26,
   "metadata": {},
   "outputs": [],
   "source": [
    "import pandas as pd \n",
    "import faiss\n",
    "import numpy as np\n",
    "from FlagEmbedding import FlagAutoModel\n",
    "import os\n",
    "\n",
    "os.environ[\"CUDA_VISIBLE_DEVICES\"]=\"\"\n",
    "\n",
    "model = FlagAutoModel.from_finetuned('BAAI/bge-base-en-v1.5',\n",
    "                                      query_instruction_for_retrieval=\"Represent this sentence for searching relevant passages:\",\n",
    "                                      use_fp16=True,\n",
    "                                      devices='cpu')"
   ]
  },
  {
   "cell_type": "code",
   "execution_count": 2,
   "metadata": {},
   "outputs": [],
   "source": [
    "df = pd.read_csv('Data/vectordb.csv')"
   ]
  },
  {
   "cell_type": "code",
   "execution_count": 3,
   "metadata": {},
   "outputs": [
    {
     "name": "stderr",
     "output_type": "stream",
     "text": [
      "pre tokenize: 100%|██████████| 23/23 [00:02<00:00,  9.20it/s]\n",
      "You're using a BertTokenizerFast tokenizer. Please note that with a fast tokenizer, using the `__call__` method is faster than using a method to encode the text followed by a call to the `pad` method to get a padded encoding.\n",
      "Inference Embeddings: 100%|██████████| 23/23 [22:40<00:00, 59.15s/it] \n"
     ]
    }
   ],
   "source": [
    "summary_embeddings = model.encode(df['Summary'].to_list()) "
   ]
  },
  {
   "cell_type": "code",
   "execution_count": 7,
   "metadata": {},
   "outputs": [
    {
     "name": "stderr",
     "output_type": "stream",
     "text": [
      "pre tokenize: 100%|██████████| 4/4 [00:01<00:00,  2.37it/s]\n",
      "Inference Embeddings: 100%|██████████| 4/4 [08:46<00:00, 131.70s/it]\n"
     ]
    }
   ],
   "source": [
    "clinical_text = df['Clinical'].dropna().astype(str).tolist()\n",
    "clinical_embeddings = model.encode(clinical_text)"
   ]
  },
  {
   "cell_type": "code",
   "execution_count": 8,
   "metadata": {},
   "outputs": [
    {
     "name": "stderr",
     "output_type": "stream",
     "text": [
      "pre tokenize: 100%|██████████| 6/6 [00:02<00:00,  2.87it/s]\n",
      "Inference Embeddings: 100%|██████████| 6/6 [11:53<00:00, 118.85s/it]\n"
     ]
    }
   ],
   "source": [
    "pop_text = df['Specific Populations'].dropna().astype(str).tolist()\n",
    "pop_embeddings =  model.encode(pop_text)"
   ]
  },
  {
   "cell_type": "code",
   "execution_count": 9,
   "metadata": {},
   "outputs": [
    {
     "name": "stderr",
     "output_type": "stream",
     "text": [
      "pre tokenize: 100%|██████████| 22/22 [00:02<00:00,  9.45it/s]\n",
      "Inference Embeddings: 100%|██████████| 22/22 [25:23<00:00, 69.27s/it]\n"
     ]
    }
   ],
   "source": [
    "dosage_text = df['Dosage'].dropna().astype(str).tolist()\n",
    "dosage_embeddings = model.encode(dosage_text)"
   ]
  },
  {
   "cell_type": "code",
   "execution_count": 10,
   "metadata": {},
   "outputs": [],
   "source": [
    "embeddings = np.vstack([summary_embeddings, clinical_embeddings, pop_embeddings, dosage_embeddings])\n",
    "index = faiss.IndexFlatL2(embeddings.shape[1])\n",
    "index.add(embeddings)\n",
    "faiss.write_index(index, 'faiss_index.idx')"
   ]
  },
  {
   "cell_type": "code",
   "execution_count": 11,
   "metadata": {},
   "outputs": [],
   "source": [
    "metadata = [{\"type\": \"summary\", \"category\": \"general\"} for _ in range(len(summary_embeddings))] + \\\n",
    "    [{\"type\": \"clinical\", \"category\": \"clinical data\"} for _ in range(len(clinical_embeddings))] + \\\n",
    "    [{\"type\": \"population\", \"category\": \"specific population usage\"} for _ in range(len(pop_embeddings))] + \\\n",
    "    [{\"type\": \"dosage\", \"category\": \"dosage and administration\"} for _ in range(len(dosage_embeddings))]"
   ]
  },
  {
   "cell_type": "code",
   "execution_count": null,
   "metadata": {},
   "outputs": [
    {
     "name": "stderr",
     "output_type": "stream",
     "text": [
      "C:\\Users\\Jason\\AppData\\Local\\Temp\\ipykernel_22064\\1786470737.py:8: LangChainDeprecationWarning: The class `HuggingFaceBgeEmbeddings` was deprecated in LangChain 0.2.2 and will be removed in 1.0. An updated version of the class exists in the :class:`~langchain-huggingface package and should be used instead. To use it run `pip install -U :class:`~langchain-huggingface` and import as `from :class:`~langchain_huggingface import HuggingFaceEmbeddings``.\n",
      "  model = HuggingFaceBgeEmbeddings(\n"
     ]
    }
   ],
   "source": [
    "from langchain.vectorstores import FAISS\n"
   ]
  },
  {
   "cell_type": "code",
   "execution_count": null,
   "metadata": {},
   "outputs": [],
   "source": [
    "text_embeddings = [\n",
    "    (text, embedding)\n",
    "    for text, embedding in zip(df['Summary'].to_list() + clinical_text + pop_text + dosage_text, embeddings)\n",
    "]\n",
    "\n",
    "vector_store = FAISS.from_embeddings(embedding=model, metadatas=metadata, text_embeddings=text_embeddings)\n",
    "vector_store.save_local('my_vector_store')"
   ]
  },
  {
   "cell_type": "markdown",
   "metadata": {},
   "source": [
    "Testing the vector DB and vector store"
   ]
  },
  {
   "cell_type": "code",
   "execution_count": 34,
   "metadata": {},
   "outputs": [
    {
     "name": "stderr",
     "output_type": "stream",
     "text": [
      "`embedding_function` is expected to be an Embeddings object, support for passing in a function will soon be removed.\n"
     ]
    },
    {
     "data": {
      "text/plain": [
       "[Document(id='aee4e363-399e-4746-b59e-3a22251d7d02', metadata={'type': 'summary', 'category': 'general'}, page_content='Summary of ACETAMINOPHEN | Uses: Uses For the temporary relief of minor aches and pains associated with • headache • toothache • minor arthritis pain • muscular aches • common cold • menstrual cramps For the reduction of fever. and  |  and  | Reactions: '),\n",
       " Document(id='3fc85fc6-8aed-42e2-8689-745f01a9c628', metadata={'type': 'summary', 'category': 'general'}, page_content='Summary of ACETAMINOPHEN | Uses: Uses temporarily: • reduces fever • relieves minor aches and pains due to: • the common cold • flu • headache • sore throat • toothache and  |  and  | Reactions: '),\n",
       " Document(id='1f6688c3-daf1-49f7-982a-91cee986d21c', metadata={'type': 'summary', 'category': 'general'}, page_content='Summary of ACETAMINOPHEN | Uses: Uses temporarily: • reduces fever • relieves minor aches and pains due to: • the common cold • flu • headache • sore throat • toothache and  |  and  | Reactions: ')]"
      ]
     },
     "execution_count": 34,
     "metadata": {},
     "output_type": "execute_result"
    }
   ],
   "source": [
    "# Load the FAISS index and vector store\n",
    "vector_store = FAISS.load_local('my_vector_store', embeddings=model, allow_dangerous_deserialization=True)\n",
    "\n",
    "# Querying the vector store (find nearest neighbors)\n",
    "query = \"ACETAMINOPHEN uses\"\n",
    "embedded_query = model.encode([query])\n",
    "results = vector_store.similarity_search_by_vector(embedded_query[0], k=3)\n",
    "results"
   ]
  },
  {
   "cell_type": "code",
   "execution_count": null,
   "metadata": {},
   "outputs": [
    {
     "data": {
      "text/plain": [
       "[Document(id='a2d4f83f-3f96-4ad4-9c8f-22a5107aa038', metadata={'type': 'clinical', 'category': 'clinical data'}, page_content='Name: AMLODIPINE BESYLATE | Clinical Trials: Because clinical trials are conducted under widely varying conditions, adverse reaction rates observed in the clinical trials of a drug cannot be directly compared to rates in the clinical trials of another drug and may not reflect the rates observed in practice. Amlodipine has been evaluated for safety in more than 11,000 patients in U.S. and foreign clinical trials. In general, treatment with amlodipine was well-tolerated at doses up to 10 mg daily. Most adverse reactions reported during therapy with amlodipine were of mild or moderate severity. In controlled clinical trials directly comparing amlodipine (N=1730) at doses up to 10 mg to placebo (N=1250), discontinuation of amlodipine because of adverse reactions was required in only about 1.5% of patients and was not significantly different from placebo (about 1%). The most commonly reported side effects more frequent than placebo are reflected in the table below. The incidence (%) of side effects that occurred in a dose related manner are as follows: 2.5mg N=275 Amlodipine 5mg N=296 10mg N=268 Placebo N=520 Edema 1.8 3.0 10.8 0.6 Dizziness 1.1 3.4 3.4 1.5 Flushing 0.7 1.4 2.6 0.0 Palpitation 0.7 1.4 4.5 0.6 Other adverse reactions that were not clearly dose related but were reported with an incidence greater than 1.0% in placebo-controlled clinical trials include the following: Amlodipine (%) (N=1730) Placebo (%) (N=1250) Fatigue 4.5 2.8 Nausea 2.9 1.9 Abdominal Pain 1.6 0.3 Somnolence 1.4 0.6 For several adverse experiences that appear to be drug and dose related, there was a greater incidence in women than men associated with amlodipine treatment as shown in the following table: Amlodipine Placebo Male=% (N=1218) Female=% (N=512) Male=% (N=914) Female=% (N=336) Edema 5.6 14.6 1.4 5.1 Flushing 1.5 4.5 0.3 0.9 Palpitations 1.4 3.3 0.9 0.9 Somnolence 1.3 1.6 0.8 0.3 The following events occurred in <1% but >0.1% of patients in controlled clinical trials or under conditions of open trials or marketing experience where a causal relationship is uncertain; they are listed to alert the physician to a possible relationship: Cardiovascular: arrhythmia (including ventricular tachycardia and atrial fibrillation), bradycardia, chest pain, peripheral ischemia, syncope, tachycardia, vasculitis. Central and Peripheral Nervous System: hypoesthesia, neuropathy peripheral, paresthesia, tremor, vertigo. Gastrointestinal: anorexia, constipation, dysphagia, diarrhea, flatulence, pancreatitis, vomiting, gingival hyperplasia. General: allergic reaction, asthenia, 1 back pain, hot flushes, malaise, pain, rigors, weight gain, weight decrease. Musculoskeletal System: arthralgia, arthrosis, muscle cramps, 1 myalgia. Psychiatric: sexual dysfunction (male 1 and female), insomnia, nervousness, depression, abnormal dreams, anxiety, depersonalization. Respiratory System: dyspnea, 1 epistaxis. Skin and Appendages: angioedema, erythema multiforme, pruritus, 1 rash, 1 rash erythematous, rash maculopapular. Special Senses: abnormal vision, conjunctivitis, diplopia, eye pain, tinnitus. Urinary System: micturition frequency, micturition disorder, nocturia. Autonomic Nervous System: dry mouth, sweating increased. Metabolic and Nutritional: hyperglycemia, thirst. Hemopoietic: leukopenia, purpura, thrombocytopenia. 1 These events occurred in less than 1% in placebo-controlled trials, but the incidence of these side effects was between 1% and 2% in all multiple dose studies. Amlodipine therapy has not been associated with clinically significant changes in routine laboratory tests. No clinically relevant changes were noted in serum potassium, serum glucose, total triglycerides, total cholesterol, HDL cholesterol, uric acid, blood urea nitrogen, or creatinine. In the CAMELOT and PREVENT studies [see Clinical Studies (14.4) ] , the adverse event profile was similar to that reported previously (see above), with the most common adverse event being peripheral edema. 6.2 Postmarketing Experience Because these reactions are reported voluntarily from a population of uncertain size, it is not always possible to reliably estimate their frequency or establish a causal relationship to drug exposure. The following postmarketing event has been reported infrequently where a causal relationship is uncertain: gynecomastia. In postmarketing experience, jaundice and hepatic enzyme elevations (mostly consistent with cholestasis or hepatitis), in some cases severe enough to require hospitalization, have been reported in association with use of amlodipine. Postmarketing reporting has also revealed a possible association between extrapyramidal disorder and amlodipine. Amlodipine has been used safely in patients with chronic obstructive pulmonary disease, well-compensated congestive heart failure, coronary artery disease, peripheral vascular disease, diabetes mellitus, and abnormal lipid profiles.'),\n",
       " Document(id='29c3021f-2902-42bd-a286-d59fa38b1bb8', metadata={'type': 'clinical', 'category': 'clinical data'}, page_content='Name: AMLODIPINE BESYLATE | Clinical Trials: Because clinical trials are conducted under widely varying conditions, adverse reaction rates observed in the clinical trials of a drug cannot be directly compared to rates in the clinical trials of another drug and may not reflect the rates observed in practice. Amlodipine has been evaluated for safety in more than 11,000 patients in U.S. and foreign clinical trials. In general, treatment with amlodipine was well-tolerated at doses up to 10 mg daily. Most adverse reactions reported during therapy with amlodipine were of mild or moderate severity. In controlled clinical trials directly comparing amlodipine (N=1730) at doses up to 10 mg to placebo (N=1250), discontinuation of amlodipine because of adverse reactions was required in only about 1.5% of patients and was not significantly different from placebo (about 1%). The most commonly reported side effects more frequent than placebo are reflected in the table below. The incidence (%) of side effects that occurred in a dose related manner are as follows: 2.5mg N=275 Amlodipine 5mg N=296 10mg N=268 Placebo N=520 Edema 1.8 3.0 10.8 0.6 Dizziness 1.1 3.4 3.4 1.5 Flushing 0.7 1.4 2.6 0.0 Palpitation 0.7 1.4 4.5 0.6 Other adverse reactions that were not clearly dose related but were reported with an incidence greater than 1.0% in placebo-controlled clinical trials include the following: Amlodipine (%) (N=1730) Placebo (%) (N=1250) Fatigue 4.5 2.8 Nausea 2.9 1.9 Abdominal Pain 1.6 0.3 Somnolence 1.4 0.6 For several adverse experiences that appear to be drug and dose related, there was a greater incidence in women than men associated with amlodipine treatment as shown in the following table: Amlodipine Placebo Male=% (N=1218) Female=% (N=512) Male=% (N=914) Female=% (N=336) Edema 5.6 14.6 1.4 5.1 Flushing 1.5 4.5 0.3 0.9 Palpitations 1.4 3.3 0.9 0.9 Somnolence 1.3 1.6 0.8 0.3 The following events occurred in <1% but >0.1% of patients in controlled clinical trials or under conditions of open trials or marketing experience where a causal relationship is uncertain; they are listed to alert the physician to a possible relationship: Cardiovascular: arrhythmia (including ventricular tachycardia and atrial fibrillation), bradycardia, chest pain, peripheral ischemia, syncope, tachycardia, vasculitis. Central and Peripheral Nervous System: hypoesthesia, neuropathy peripheral, paresthesia, tremor, vertigo. Gastrointestinal: anorexia, constipation, dysphagia, diarrhea, flatulence, pancreatitis, vomiting, gingival hyperplasia. General: allergic reaction, asthenia, 1 back pain, hot flushes, malaise, pain, rigors, weight gain, weight decrease. Musculoskeletal System: arthralgia, arthrosis, muscle cramps, 1 myalgia. Psychiatric: sexual dysfunction (male 1 and female), insomnia, nervousness, depression, abnormal dreams, anxiety, depersonalization. Respiratory System: dyspnea, 1 epistaxis. Skin and Appendages: angioedema, erythema multiforme, pruritus, 1 rash, 1 rash erythematous, rash maculopapular. Special Senses: abnormal vision, conjunctivitis, diplopia, eye pain, tinnitus. Urinary System: micturition frequency, micturition disorder, nocturia. Autonomic Nervous System: dry mouth, sweating increased. Metabolic and Nutritional: hyperglycemia, thirst. Hemopoietic: leukopenia, purpura, thrombocytopenia. 1 These events occurred in less than 1% in placebo-controlled trials, but the incidence of these side effects was between 1% and 2% in all multiple dose studies. Amlodipine therapy has not been associated with clinically significant changes in routine laboratory tests. No clinically relevant changes were noted in serum potassium, serum glucose, total triglycerides, total cholesterol, HDL cholesterol, uric acid, blood urea nitrogen, or creatinine. In the CAMELOT and PREVENT studies [see Clinical Studies (14.4) ] , the adverse event profile was similar to that reported previously (see above), with the most common adverse event being peripheral edema. 6.2 Postmarketing Experience Because these reactions are reported voluntarily from a population of uncertain size, it is not always possible to reliably estimate their frequency or establish a causal relationship to drug exposure. The following postmarketing event has been reported infrequently where a causal relationship is uncertain: gynecomastia. In postmarketing experience, jaundice and hepatic enzyme elevations (mostly consistent with cholestasis or hepatitis), in some cases severe enough to require hospitalization, have been reported in association with use of amlodipine. Postmarketing reporting has also revealed a possible association between extrapyramidal disorder and amlodipine. Amlodipine has been used safely in patients with chronic obstructive pulmonary disease, well-compensated congestive heart failure, coronary artery disease, peripheral vascular disease, diabetes mellitus, and abnormal lipid profiles.'),\n",
       " Document(id='b10ef80f-f711-4c37-bd78-7e77cb18af89', metadata={'type': 'clinical', 'category': 'clinical data'}, page_content='Name: AMLODIPINE BESYLATE | Clinical Trials: Because clinical trials are conducted under widely varying conditions, adverse reaction rates observed in the clinical trials of a drug cannot be directly compared to rates in the clinical trials of another drug and may not reflect the rates observed in practice. Amlodipine has been evaluated for safety in more than 11,000 patients in U.S. and foreign clinical trials. In general, treatment with amlodipine was well-tolerated at doses up to 10 mg daily. Most adverse reactions reported during therapy with amlodipine were of mild or moderate severity. In controlled clinical trials directly comparing amlodipine (N=1730) at doses up to 10 mg to placebo (N=1250), discontinuation of amlodipine because of adverse reactions was required in only about 1.5% of patients and was not significantly different from placebo (about 1%). The most commonly reported side effects more frequent than placebo are reflected in the table below. The incidence (%) of side effects that occurred in a dose related manner are as follows: Amlodipine Placebo 2.5 mg N=275 5 mg N=296 10 mg N=268 N=520 Edema 1.8 3.0 10.8 0.6 Dizziness 1.1 3.4 3.4 1.5 Flushing 0.7 1.4 2.6 0.0 Palpitation 0.7 1.4 4.5 0.6 Other adverse reactions that were not clearly dose related but were reported with an incidence greater than 1.0% in placebo-controlled clinical trials include the following: Amlodipine (%) (N=1730) Placebo (%) (N=1250) Fatigue 4.5 2.8 Nausea 2.9 1.9 Abdominal Pain 1.6 0.3 Somnolence 1.4 0.6 For several adverse experiences that appear to be drug and dose related, there was a greater incidence in women than men associated with amlodipine treatment as shown in the following table: Amlodipine Placebo Male = % (N=1218) Female=% (N=512) Male=% (N=914) Female=% (N=336) Edema 5.6 14.6 1.4 5.1 Flushing 1.5 4.5 0.3 0.9 Palpitations 1.4 3.3 0.9 0.9 Somnolence 1.3 1.6 0.8 0.3 The following events occurred in <1% but >0.1% of patients in controlled clinical trials or under conditions of open trials or marketing experience where a causal relationship is uncertain; they are listed to alert the physician to a possible relationship: Cardiovascular: arrhythmia (including ventricular tachycardia and atrial fibrillation), bradycardia, chest pain, peripheral ischemia, syncope, tachycardia, vasculitis. Central and Peripheral Nervous System: hypoesthesia, neuropathy peripheral, paresthesia, tremor, vertigo. Gastrointestinal: anorexia, constipation, dysphagia, diarrhea, flatulence, pancreatitis, vomiting, gingival hyperplasia. General: allergic reaction, asthenia, 1 back pain, hot flushes, malaise, pain, rigors, weight gain, weight decrease. Musculoskeletal System: arthralgia, arthrosis, muscle cramps, 1 myalgia. Psychiatric: sexual dysfunction (male 1 and female), insomnia, nervousness, depression, abnormal dreams, anxiety, depersonalization. Respiratory System: dyspnea, 1 epistaxis. Skin and Appendages: angioedema, erythema multiforme, pruritus, 1 rash, 1 rash erythematous, rash maculopapular. Special Senses: abnormal vision, conjunctivitis, diplopia, eye pain, tinnitus. Urinary System: micturition frequency, micturition disorder, nocturia. Autonomic Nervous System: dry mouth, sweating increased. Metabolic and Nutritional: hyperglycemia, thirst. Hemopoietic: leukopenia, purpura, thrombocytopenia. 1 These events occurred in less than 1% in placebo-controlled trials, but the incidence of these side effects was between 1% and 2% in all multiple dose studies. Amlodipine therapy has not been associated with clinically significant changes in routine laboratory tests. No clinically relevant changes were noted in serum potassium, serum glucose, total triglycerides, total cholesterol, HDL cholesterol, uric acid, blood urea nitrogen, or creatinine. In the CAMELOT and PREVENT studies [see Clinical Studies ( 14.4 )] , the adverse event profile was similar to that reported previously (see above), with the most common adverse event being peripheral edema. 6.2 Postmarketing Experience Because these reactions are reported voluntarily from a population of uncertain size, it is not always possible to reliably estimate their frequency or establish a causal relationship to drug exposure. The following postmarketing event has been reported infrequently where a causal relationship is uncertain: gynecomastia. In postmarketing experience, jaundice and hepatic enzyme elevations (mostly consistent with cholestasis or hepatitis), in some cases severe enough to require hospitalization, have been reported in association with use of amlodipine. Postmarketing reporting has also revealed a possible association between extrapyramidal disorder and amlodipine. Amlodipine has been used safely in patients with chronic obstructive pulmonary disease, well-compensated congestive heart failure, coronary artery disease, peripheral vascular disease, diabetes mellitus, and abnormal lipid profiles.')]"
      ]
     },
     "execution_count": 36,
     "metadata": {},
     "output_type": "execute_result"
    },
    {
     "ename": "",
     "evalue": "",
     "output_type": "error",
     "traceback": [
      "\u001b[1;31mThe Kernel crashed while executing code in the current cell or a previous cell. \n",
      "\u001b[1;31mPlease review the code in the cell(s) to identify a possible cause of the failure. \n",
      "\u001b[1;31mClick <a href='https://aka.ms/vscodeJupyterKernelCrash'>here</a> for more info. \n",
      "\u001b[1;31mView Jupyter <a href='command:jupyter.viewOutput'>log</a> for further details."
     ]
    }
   ],
   "source": [
    "query = \"AMLODIPINE clinical\"\n",
    "embedded_query = model.encode([query])\n",
    "results = vector_store.similarity_search_by_vector(embedded_query[0], k=3)\n",
    "results"
   ]
  },
  {
   "cell_type": "code",
   "execution_count": null,
   "metadata": {},
   "outputs": [],
   "source": [
    "query = \"ACETAMINOPHEN uses\"\n",
    "embed_query = model.encode([query])\n",
    "\n",
    "results = vector_store.similarity_search_by_vector(\n",
    "    embed_query[0], \n",
    "    k=10, \n",
    "    filter={\"category\": \"clinical\"}  \n",
    ")"
   ]
  }
 ],
 "metadata": {
  "kernelspec": {
   "display_name": ".venv",
   "language": "python",
   "name": "python3"
  },
  "language_info": {
   "codemirror_mode": {
    "name": "ipython",
    "version": 3
   },
   "file_extension": ".py",
   "mimetype": "text/x-python",
   "name": "python",
   "nbconvert_exporter": "python",
   "pygments_lexer": "ipython3",
   "version": "3.12.7"
  }
 },
 "nbformat": 4,
 "nbformat_minor": 2
}
