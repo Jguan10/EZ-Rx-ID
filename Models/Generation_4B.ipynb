{
  "nbformat": 4,
  "nbformat_minor": 0,
  "metadata": {
    "colab": {
      "provenance": [],
      "gpuType": "T4"
    },
    "kernelspec": {
      "name": "python3",
      "display_name": "Python 3"
    },
    "language_info": {
      "name": "python"
    },
    "accelerator": "GPU"
  },
  "cells": [
    {
      "cell_type": "code",
      "source": [
        "'''\n",
        "pip install -U FlagEmbedding\n",
        "pip install -U langchain-community\n",
        "pip install -v gptqmodel --no-build-isolation\n",
        "pip install --upgrade optimum transformers\n",
        "pip install faiss-cpu\n",
        "'''"
      ],
      "metadata": {
        "id": "onFL8ZA1iZQq"
      },
      "execution_count": null,
      "outputs": []
    },
    {
      "cell_type": "code",
      "source": [
        "from google.colab import drive\n",
        "drive.mount('/content/drive')"
      ],
      "metadata": {
        "id": "FClJUMG-vCD3"
      },
      "execution_count": null,
      "outputs": []
    },
    {
      "cell_type": "markdown",
      "source": [
        "Importing Packages and Models"
      ],
      "metadata": {
        "id": "4aPTNfjn1QDK"
      }
    },
    {
      "cell_type": "code",
      "execution_count": 1,
      "metadata": {
        "colab": {
          "base_uri": "https://localhost:8080/"
        },
        "id": "AjgeaOrKZf7A",
        "outputId": "64989fbb-72b8-4e0f-a7e8-a75ae25c8ddd"
      },
      "outputs": [
        {
          "output_type": "stream",
          "name": "stderr",
          "text": [
            "/usr/local/lib/python3.11/dist-packages/huggingface_hub/utils/_auth.py:94: UserWarning: \n",
            "The secret `HF_TOKEN` does not exist in your Colab secrets.\n",
            "To authenticate with the Hugging Face Hub, create a token in your settings tab (https://huggingface.co/settings/tokens), set it as secret in your Google Colab and restart your session.\n",
            "You will be able to reuse this secret in all of your notebooks.\n",
            "Please note that authentication is recommended but still optional to access public models or datasets.\n",
            "  warnings.warn(\n"
          ]
        }
      ],
      "source": [
        "from langchain.vectorstores import FAISS\n",
        "from FlagEmbedding import FlagAutoModel\n",
        "\n",
        "embed_model = FlagAutoModel.from_finetuned('BAAI/bge-base-en-v1.5',\n",
        "                                      query_instruction_for_retrieval=\"Represent this sentence for searching relevant passages:\",\n",
        "                                      use_fp16=True)"
      ]
    },
    {
      "cell_type": "code",
      "source": [
        "from transformers import AutoModelForCausalLM, AutoTokenizer, pipeline\n",
        "\n",
        "model = AutoModelForCausalLM.from_pretrained(\n",
        "    \"thesven/Mistral-7B-Instruct-v0.3-GPTQ\",\n",
        "    device_map = 'auto'\n",
        ")\n",
        "tokenizer = AutoTokenizer.from_pretrained(\"thesven/Mistral-7B-Instruct-v0.3-GPTQ\")"
      ],
      "metadata": {
        "colab": {
          "base_uri": "https://localhost:8080/"
        },
        "id": "yO6nDl0SZlpG",
        "outputId": "f6701de9-adb6-4ac3-e2c1-ed7d783db4fc"
      },
      "execution_count": 2,
      "outputs": [
        {
          "output_type": "stream",
          "name": "stdout",
          "text": [
            "\n",
            "\u001b[32mINFO\u001b[0m  ENV: Auto setting PYTORCH_CUDA_ALLOC_CONF='expandable_segments:True' for memory saving.      \n",
            "\u001b[32mINFO\u001b[0m  ENV: Auto setting CUDA_DEVICE_ORDER=PCI_BUS_ID for correctness.                              \n",
            "\u001b[32mINFO\u001b[0m   Kernel: Auto-selection: adding candidate `ExllamaQuantLinear`                               \n"
          ]
        },
        {
          "output_type": "stream",
          "name": "stderr",
          "text": [
            "`loss_type=None` was set in the config but it is unrecognised.Using the default loss: `ForCausalLMLoss`.\n",
            "Some weights of the model checkpoint at thesven/Mistral-7B-Instruct-v0.3-GPTQ were not used when initializing MistralForCausalLM: ['model.layers.0.mlp.down_proj.bias', 'model.layers.0.mlp.gate_proj.bias', 'model.layers.0.mlp.up_proj.bias', 'model.layers.0.self_attn.k_proj.bias', 'model.layers.0.self_attn.o_proj.bias', 'model.layers.0.self_attn.q_proj.bias', 'model.layers.0.self_attn.v_proj.bias', 'model.layers.1.mlp.down_proj.bias', 'model.layers.1.mlp.gate_proj.bias', 'model.layers.1.mlp.up_proj.bias', 'model.layers.1.self_attn.k_proj.bias', 'model.layers.1.self_attn.o_proj.bias', 'model.layers.1.self_attn.q_proj.bias', 'model.layers.1.self_attn.v_proj.bias', 'model.layers.10.mlp.down_proj.bias', 'model.layers.10.mlp.gate_proj.bias', 'model.layers.10.mlp.up_proj.bias', 'model.layers.10.self_attn.k_proj.bias', 'model.layers.10.self_attn.o_proj.bias', 'model.layers.10.self_attn.q_proj.bias', 'model.layers.10.self_attn.v_proj.bias', 'model.layers.11.mlp.down_proj.bias', 'model.layers.11.mlp.gate_proj.bias', 'model.layers.11.mlp.up_proj.bias', 'model.layers.11.self_attn.k_proj.bias', 'model.layers.11.self_attn.o_proj.bias', 'model.layers.11.self_attn.q_proj.bias', 'model.layers.11.self_attn.v_proj.bias', 'model.layers.12.mlp.down_proj.bias', 'model.layers.12.mlp.gate_proj.bias', 'model.layers.12.mlp.up_proj.bias', 'model.layers.12.self_attn.k_proj.bias', 'model.layers.12.self_attn.o_proj.bias', 'model.layers.12.self_attn.q_proj.bias', 'model.layers.12.self_attn.v_proj.bias', 'model.layers.13.mlp.down_proj.bias', 'model.layers.13.mlp.gate_proj.bias', 'model.layers.13.mlp.up_proj.bias', 'model.layers.13.self_attn.k_proj.bias', 'model.layers.13.self_attn.o_proj.bias', 'model.layers.13.self_attn.q_proj.bias', 'model.layers.13.self_attn.v_proj.bias', 'model.layers.14.mlp.down_proj.bias', 'model.layers.14.mlp.gate_proj.bias', 'model.layers.14.mlp.up_proj.bias', 'model.layers.14.self_attn.k_proj.bias', 'model.layers.14.self_attn.o_proj.bias', 'model.layers.14.self_attn.q_proj.bias', 'model.layers.14.self_attn.v_proj.bias', 'model.layers.15.mlp.down_proj.bias', 'model.layers.15.mlp.gate_proj.bias', 'model.layers.15.mlp.up_proj.bias', 'model.layers.15.self_attn.k_proj.bias', 'model.layers.15.self_attn.o_proj.bias', 'model.layers.15.self_attn.q_proj.bias', 'model.layers.15.self_attn.v_proj.bias', 'model.layers.16.mlp.down_proj.bias', 'model.layers.16.mlp.gate_proj.bias', 'model.layers.16.mlp.up_proj.bias', 'model.layers.16.self_attn.k_proj.bias', 'model.layers.16.self_attn.o_proj.bias', 'model.layers.16.self_attn.q_proj.bias', 'model.layers.16.self_attn.v_proj.bias', 'model.layers.17.mlp.down_proj.bias', 'model.layers.17.mlp.gate_proj.bias', 'model.layers.17.mlp.up_proj.bias', 'model.layers.17.self_attn.k_proj.bias', 'model.layers.17.self_attn.o_proj.bias', 'model.layers.17.self_attn.q_proj.bias', 'model.layers.17.self_attn.v_proj.bias', 'model.layers.18.mlp.down_proj.bias', 'model.layers.18.mlp.gate_proj.bias', 'model.layers.18.mlp.up_proj.bias', 'model.layers.18.self_attn.k_proj.bias', 'model.layers.18.self_attn.o_proj.bias', 'model.layers.18.self_attn.q_proj.bias', 'model.layers.18.self_attn.v_proj.bias', 'model.layers.19.mlp.down_proj.bias', 'model.layers.19.mlp.gate_proj.bias', 'model.layers.19.mlp.up_proj.bias', 'model.layers.19.self_attn.k_proj.bias', 'model.layers.19.self_attn.o_proj.bias', 'model.layers.19.self_attn.q_proj.bias', 'model.layers.19.self_attn.v_proj.bias', 'model.layers.2.mlp.down_proj.bias', 'model.layers.2.mlp.gate_proj.bias', 'model.layers.2.mlp.up_proj.bias', 'model.layers.2.self_attn.k_proj.bias', 'model.layers.2.self_attn.o_proj.bias', 'model.layers.2.self_attn.q_proj.bias', 'model.layers.2.self_attn.v_proj.bias', 'model.layers.20.mlp.down_proj.bias', 'model.layers.20.mlp.gate_proj.bias', 'model.layers.20.mlp.up_proj.bias', 'model.layers.20.self_attn.k_proj.bias', 'model.layers.20.self_attn.o_proj.bias', 'model.layers.20.self_attn.q_proj.bias', 'model.layers.20.self_attn.v_proj.bias', 'model.layers.21.mlp.down_proj.bias', 'model.layers.21.mlp.gate_proj.bias', 'model.layers.21.mlp.up_proj.bias', 'model.layers.21.self_attn.k_proj.bias', 'model.layers.21.self_attn.o_proj.bias', 'model.layers.21.self_attn.q_proj.bias', 'model.layers.21.self_attn.v_proj.bias', 'model.layers.22.mlp.down_proj.bias', 'model.layers.22.mlp.gate_proj.bias', 'model.layers.22.mlp.up_proj.bias', 'model.layers.22.self_attn.k_proj.bias', 'model.layers.22.self_attn.o_proj.bias', 'model.layers.22.self_attn.q_proj.bias', 'model.layers.22.self_attn.v_proj.bias', 'model.layers.23.mlp.down_proj.bias', 'model.layers.23.mlp.gate_proj.bias', 'model.layers.23.mlp.up_proj.bias', 'model.layers.23.self_attn.k_proj.bias', 'model.layers.23.self_attn.o_proj.bias', 'model.layers.23.self_attn.q_proj.bias', 'model.layers.23.self_attn.v_proj.bias', 'model.layers.24.mlp.down_proj.bias', 'model.layers.24.mlp.gate_proj.bias', 'model.layers.24.mlp.up_proj.bias', 'model.layers.24.self_attn.k_proj.bias', 'model.layers.24.self_attn.o_proj.bias', 'model.layers.24.self_attn.q_proj.bias', 'model.layers.24.self_attn.v_proj.bias', 'model.layers.25.mlp.down_proj.bias', 'model.layers.25.mlp.gate_proj.bias', 'model.layers.25.mlp.up_proj.bias', 'model.layers.25.self_attn.k_proj.bias', 'model.layers.25.self_attn.o_proj.bias', 'model.layers.25.self_attn.q_proj.bias', 'model.layers.25.self_attn.v_proj.bias', 'model.layers.26.mlp.down_proj.bias', 'model.layers.26.mlp.gate_proj.bias', 'model.layers.26.mlp.up_proj.bias', 'model.layers.26.self_attn.k_proj.bias', 'model.layers.26.self_attn.o_proj.bias', 'model.layers.26.self_attn.q_proj.bias', 'model.layers.26.self_attn.v_proj.bias', 'model.layers.27.mlp.down_proj.bias', 'model.layers.27.mlp.gate_proj.bias', 'model.layers.27.mlp.up_proj.bias', 'model.layers.27.self_attn.k_proj.bias', 'model.layers.27.self_attn.o_proj.bias', 'model.layers.27.self_attn.q_proj.bias', 'model.layers.27.self_attn.v_proj.bias', 'model.layers.28.mlp.down_proj.bias', 'model.layers.28.mlp.gate_proj.bias', 'model.layers.28.mlp.up_proj.bias', 'model.layers.28.self_attn.k_proj.bias', 'model.layers.28.self_attn.o_proj.bias', 'model.layers.28.self_attn.q_proj.bias', 'model.layers.28.self_attn.v_proj.bias', 'model.layers.29.mlp.down_proj.bias', 'model.layers.29.mlp.gate_proj.bias', 'model.layers.29.mlp.up_proj.bias', 'model.layers.29.self_attn.k_proj.bias', 'model.layers.29.self_attn.o_proj.bias', 'model.layers.29.self_attn.q_proj.bias', 'model.layers.29.self_attn.v_proj.bias', 'model.layers.3.mlp.down_proj.bias', 'model.layers.3.mlp.gate_proj.bias', 'model.layers.3.mlp.up_proj.bias', 'model.layers.3.self_attn.k_proj.bias', 'model.layers.3.self_attn.o_proj.bias', 'model.layers.3.self_attn.q_proj.bias', 'model.layers.3.self_attn.v_proj.bias', 'model.layers.30.mlp.down_proj.bias', 'model.layers.30.mlp.gate_proj.bias', 'model.layers.30.mlp.up_proj.bias', 'model.layers.30.self_attn.k_proj.bias', 'model.layers.30.self_attn.o_proj.bias', 'model.layers.30.self_attn.q_proj.bias', 'model.layers.30.self_attn.v_proj.bias', 'model.layers.31.mlp.down_proj.bias', 'model.layers.31.mlp.gate_proj.bias', 'model.layers.31.mlp.up_proj.bias', 'model.layers.31.self_attn.k_proj.bias', 'model.layers.31.self_attn.o_proj.bias', 'model.layers.31.self_attn.q_proj.bias', 'model.layers.31.self_attn.v_proj.bias', 'model.layers.4.mlp.down_proj.bias', 'model.layers.4.mlp.gate_proj.bias', 'model.layers.4.mlp.up_proj.bias', 'model.layers.4.self_attn.k_proj.bias', 'model.layers.4.self_attn.o_proj.bias', 'model.layers.4.self_attn.q_proj.bias', 'model.layers.4.self_attn.v_proj.bias', 'model.layers.5.mlp.down_proj.bias', 'model.layers.5.mlp.gate_proj.bias', 'model.layers.5.mlp.up_proj.bias', 'model.layers.5.self_attn.k_proj.bias', 'model.layers.5.self_attn.o_proj.bias', 'model.layers.5.self_attn.q_proj.bias', 'model.layers.5.self_attn.v_proj.bias', 'model.layers.6.mlp.down_proj.bias', 'model.layers.6.mlp.gate_proj.bias', 'model.layers.6.mlp.up_proj.bias', 'model.layers.6.self_attn.k_proj.bias', 'model.layers.6.self_attn.o_proj.bias', 'model.layers.6.self_attn.q_proj.bias', 'model.layers.6.self_attn.v_proj.bias', 'model.layers.7.mlp.down_proj.bias', 'model.layers.7.mlp.gate_proj.bias', 'model.layers.7.mlp.up_proj.bias', 'model.layers.7.self_attn.k_proj.bias', 'model.layers.7.self_attn.o_proj.bias', 'model.layers.7.self_attn.q_proj.bias', 'model.layers.7.self_attn.v_proj.bias', 'model.layers.8.mlp.down_proj.bias', 'model.layers.8.mlp.gate_proj.bias', 'model.layers.8.mlp.up_proj.bias', 'model.layers.8.self_attn.k_proj.bias', 'model.layers.8.self_attn.o_proj.bias', 'model.layers.8.self_attn.q_proj.bias', 'model.layers.8.self_attn.v_proj.bias', 'model.layers.9.mlp.down_proj.bias', 'model.layers.9.mlp.gate_proj.bias', 'model.layers.9.mlp.up_proj.bias', 'model.layers.9.self_attn.k_proj.bias', 'model.layers.9.self_attn.o_proj.bias', 'model.layers.9.self_attn.q_proj.bias', 'model.layers.9.self_attn.v_proj.bias']\n",
            "- This IS expected if you are initializing MistralForCausalLM from the checkpoint of a model trained on another task or with another architecture (e.g. initializing a BertForSequenceClassification model from a BertForPreTraining model).\n",
            "- This IS NOT expected if you are initializing MistralForCausalLM from the checkpoint of a model that you expect to be exactly identical (initializing a BertForSequenceClassification model from a BertForSequenceClassification model).\n"
          ]
        },
        {
          "output_type": "stream",
          "name": "stdout",
          "text": [
            "\u001b[32mINFO\u001b[0m  Format: Converting `checkpoint_format` from `gptq` to internal `gptq_v2`.                    \n",
            "\u001b[32mINFO\u001b[0m  Format: Converting GPTQ v1 to v2                                                             \n",
            "\u001b[32mINFO\u001b[0m  Format: Conversion complete: 0.07536005973815918s                                            \n"
          ]
        }
      ]
    },
    {
      "cell_type": "code",
      "source": [
        "from langchain.prompts import PromptTemplate\n",
        "from langchain.llms import HuggingFacePipeline\n",
        "from langchain.callbacks.streaming_stdout import StreamingStdOutCallbackHandler"
      ],
      "metadata": {
        "id": "nyMWYfpUaZbG"
      },
      "execution_count": 18,
      "outputs": []
    },
    {
      "cell_type": "code",
      "source": [
        "vector_store_path = \"/content/drive/MyDrive/my_vector_store\"\n",
        "vector_store = FAISS.load_local(vector_store_path, embeddings=embed_model, allow_dangerous_deserialization=True)"
      ],
      "metadata": {
        "id": "mtAyX55y1wZO"
      },
      "execution_count": null,
      "outputs": []
    },
    {
      "cell_type": "markdown",
      "source": [
        "Retrieve"
      ],
      "metadata": {
        "id": "P9bAJh_Z15nE"
      }
    },
    {
      "cell_type": "code",
      "source": [
        "query = \"Can you take HYDROCHLOROTHIAZIDE if you are pregnant?\"\n",
        "embed_query = embed_model.encode([query])"
      ],
      "metadata": {
        "id": "3jO_oqVusF51"
      },
      "execution_count": 64,
      "outputs": []
    },
    {
      "cell_type": "code",
      "source": [
        "if \"pregnant\" in query.lower():\n",
        "    category = 'specific population usage'\n",
        "\n",
        "elif \"uses\" in query.lower():\n",
        "    category = 'general'\n",
        "\n",
        "else:\n",
        "    category = 'general'"
      ],
      "metadata": {
        "id": "gcHx27Kbdduz"
      },
      "execution_count": 65,
      "outputs": []
    },
    {
      "cell_type": "code",
      "source": [
        "results = vector_store.similarity_search_by_vector(\n",
        "    embed_query[0],\n",
        "    k=3,\n",
        "    filter={\"category\": category}\n",
        ")\n",
        "\n",
        "cleaned_context = [doc.page_content for doc in results]\n",
        "cleaned_context"
      ],
      "metadata": {
        "colab": {
          "base_uri": "https://localhost:8080/"
        },
        "id": "cyQJAJFjaaAT",
        "outputId": "6aec835a-14e3-4231-8b92-82b848a7e070"
      },
      "execution_count": 66,
      "outputs": [
        {
          "output_type": "execute_result",
          "data": {
            "text/plain": [
              "['Name: HYDROCHLOROTHIAZIDE | Use in Specific Populations: Use in Pregnancy: Routine use of diuretics during normal pregnancy is inappropriate and exposes mother and fetus to unnecessary hazard. Diuretics do not prevent development of toxemia of pregnancy and there is no satisfactory evidence that they are useful in the treatment of toxemia. Edema during pregnancy may arise from pathologic causes or from the physiologic and mechanical consequences of pregnancy. Thiazides are indicated in pregnancy when edema is due to pathologic causes, just as they are in the absence of pregnancy (see PRECAUTIONS: Pregnancy ). Dependent edema in pregnancy, resulting from restriction of venous return by the gravid uterus, is properly treated through elevation of the lower extremities and use of support stockings. Use of diuretics to lower intravascular volume in this instance is illogical and unnecessary. During normal pregnancy there is hypervolemia which is not harmful to the fetus or the mother in the absence of cardiovascular disease. However, it may be associated with edema, rarely generalized edema. If such edema causes discomfort, increased recumbency will often provide relief. Rarely this edema may cause extreme discomfort which is not relieved by rest. In these instances, a short course of diuretic therapy may provide relief and be appropriate.',\n",
              " 'Name: VALSARTAN AND HYDROCHLOROTHIAZIDE | Use in Specific Populations: Lactation: Breastfeeding is not recommended ( 8.2 ) 8.1 Pregnancy Risk Summary Valsartan and hydrochlorothiazide can cause fetal harm when administered to a pregnant woman. Use of drugs that act on the renin-angiotensin system during the second and third trimesters of pregnancy reduces fetal renal function and increases fetal and neonatal morbidity and death. Most epidemiologic studies examining fetal abnormalities after exposure to antihypertensive use in the first trimester have not distinguished drugs affecting the renin-angiotensin system from other antihypertensive agents. Published reports include cases of anhydramnios and oligohydramnios in pregnant women treated with valsartan ( see Clinical Considerations ). When pregnancy is detected discontinue valsartan and hydrochlorothiazide as soon as possible. The estimated background risk of major birth defects and miscarriage for the indicated population is unknown. All pregnancies have a background risk of birth defect, loss, or other adverse outcomes. In the U.S. general population, the estimated background risk of major birth defects and miscarriage in clinically recognized pregnancies is 2 to 4% and 15 to 20%, respectively. Clinical Considerations Disease-associated maternal and/or embryo/fetal risk Hypertension in pregnancy increases the maternal risk for pre-eclampsia, gestational diabetes, premature delivery, and delivery complications (e.g., need for cesarean section and post-partum hemorrhage). Hypertension increases the fetal risk for intrauterine growth restriction and intrauterine death. Pregnant women with hypertension should be carefully monitored and managed accordingly. Fetal/Neonatal Adverse Reactions Valsartan Oligohydramnios in pregnant women who use drugs affecting the renin-angiotensin system in the second and third trimesters of pregnancy can result in the following: reduced fetal renal function leading to anuria and renal failure, fetal lung hypoplasia, skeletal deformations, including skull hypoplasia, hypotension and death. Perform serial ultrasound examinations to assess the intra-amniotic environment. Fetal testing may be appropriate, based on the week of gestation. Patients and physicians should be aware, however, that oligohydramnios may not appear until after the fetus has sustained irreversible injury. If oligohydramnios is observed, consider alternative drug treatment. Closely observe neonates with histories of in utero exposure to valsartan and hydrochlorothiazide for hypotension, oliguria, and hyperkalemia. In neonates with a history of in utero exposure to valsartan and hydrochlorothiazide, if oliguria or hypotension occurs, support blood pressure and renal perfusion. Exchange transfusions or dialysis may be required as a means of reversing hypotension and replacing renal function. Hydrochlorothiazide Thiazides can cross the placenta, and concentrations reached in the umbilical vein approach those in the maternal plasma. Hydrochlorothiazide, like other diuretics, can cause placental hypoperfusion. It accumulates in the amniotic fluid, with reported concentrations up to 19 times higher than in umbilical vein plasma. Use of thiazides during pregnancy is associated with a risk of fetal or neonatal jaundice or thrombocytopenia. Since they do not prevent or alter the course of EPH (Edema, Proteinuria, Hypertension) gestosis (pre-eclampsia), these drugs should not be used to treat hypertension in pregnant women. The use of hydrochlorothiazide for other indications (e.g., heart disease) in pregnancy should be avoided. Data Animal Data Valsartan plus Hydrochlorothiazide There was no evidence of teratogenicity in mice, rats, or rabbits treated orally with valsartan at doses of up to 600, 100, and 10 mg/kg/day [9, 3.5 and 0.5 times the maximum recommended human dose (MRHD)], respectively, in combination with hydrochlorothiazide at doses up to 188, 31, and 3 mg/kg/day (38, 13 and 2 times the MRHD). Fetotoxicity was observed in association with maternal toxicity in rats at valsartan/hydrochlorothiazide doses of ≥200/63 mg/kg/day and in rabbits at valsartan/hydrochlorothiazide doses of 10/3 mg/kg/day. Evidence of fetotoxicity in rats consisted of decreased fetal weight and fetal variations of sternebrae, vertebrae, ribs, and/or renal papillae. Evidence of fetotoxicity in rabbits included increased numbers of late resorptions with resultant increases in total resorptions, post-implantation losses, and decreased number of live fetuses. 8.2 Lactation Risk Summary There is limited information regarding the presence of valsartan and hydrochlorothiazide in human milk, the effects on the breastfed infant, or the effects on milk production. Valsartan is present in rat milk. Hydrochlorothiazide is present in human breast milk. Because of the potential for serious adverse reactions in breastfed infants, advise a nursing woman that breastfeeding is not recommended during treatment with valsartan and hydrochlorothiazide. Data Valsartan was detected in the milk of lactating rats 15 minutes after oral administration of a 3 mg/kg dose. 8.4 Pediatric Use Safety and effectiveness of valsartan and hydrochlorothiazide in pediatric patients have not been established. 8.5 Geriatric Use In the controlled clinical trials of valsartan and hydrochlorothiazide, 764 (17.5%) of patients treated with valsartan-hydrochlorothiazide were ≥65 years and 118 (2.7%) were ≥75 years. No overall difference in the efficacy or safety of valsartan-hydrochlorothiazide was observed between these patients and younger patients, but greater sensitivity of some older individuals cannot be ruled out. 8.6 Renal Impairment Safety and effectiveness of valsartan and hydrochlorothiazide in patients with severe renal impairment (CrCl ≤ 30 mL/min) have not been established. No dose adjustment is required in patients with mild (CrCl 60 to 90 mL/min) or moderate (CrCl 30 to 60 mL/min) renal impairment. 8.7 Hepatic Impairment Valsartan No dose adjustment is necessary for patients with mild-to-moderate liver disease. No dosing recommendations can be provided for patients with severe liver disease. Hydrochlorothiazide Minor alterations of fluid and electrolyte balance may precipitate hepatic coma in patients with impaired hepatic function or progressive liver disease.',\n",
              " 'Name: VALSARTAN AND HYDROCHLOROTHIAZIDE | Use in Specific Populations: Lactation: Breastfeeding is not recommended ( 8.2 ) 8.1 Pregnancy Risk Summary Valsartan and hydrochlorothiazide tablets can cause fetal harm when administered to a pregnant woman. Use of drugs that act on the renin-angiotensin system during the second and third trimesters of pregnancy reduces fetal renal function and increases fetal and neonatal morbidity and death. Most epidemiologic studies examining fetal abnormalities after exposure to antihypertensive use in the first trimester have not distinguished drugs affecting the renin-angiotensin system from other antihypertensive agents. Published reports include cases of anhydramnios and oligohydramnios in pregnant women treated with valsartan [see Clinical Considerations ] . When pregnancy is detected discontinue valsartan and hydrochlorothiazide tablets as soon as possible. The estimated background risk of major birth defects and miscarriage for the indicated population is unknown. All pregnancies have a background risk of birth defect, loss, or other adverse outcomes. In the U.S. general population, the estimated background risk of major birth defects and miscarriage in clinically recognized pregnancies is 2-4% and 15-20%, respectively. Clinical Considerations Disease-Associated Maternal and/or Embryo/Fetal Risk Hypertension in pregnancy increases the maternal risk for pre-eclampsia, gestational diabetes, premature delivery, and delivery complications (e.g., need for cesarean section and post-partum hemorrhage). Hypertension increases the fetal risk for intrauterine growth restriction and intrauterine death. Pregnant women with hypertension should be carefully monitored and managed accordingly. Fetal/Neonatal Adverse Reactions Valsartan: Oligohydramnios in pregnant women who use drugs affecting the renin-angiotensin system in the second and third trimesters of pregnancy can result in the following: reduced fetal renal function leading to anuria and renal failure, fetal lung hypoplasia, skeletal deformations, including skull hypoplasia, hypotension and death. Perform serial ultrasound examinations to assess the intra-amniotic environment. Fetal testing may be appropriate, based on the week of gestation. Patients and physicians should be aware, however, that oligohydramnios may not appear until after the fetus has sustained irreversible injury. If oligohydramnios is observed, consider alternative drug treatment. Closely observe neonates with histories of in utero exposure to valsartan and hydrochlorothiazide tablets for hypotension, oliguria, and hyperkalemia. In neonates with a history of in utero exposure to valsartan and hydrochlorothiazide tablets, if oliguria or hypotension occurs, support blood pressure and renal perfusion. Exchange transfusions or dialysis may be required as a means of reversing hypotension and replacing renal function. Hydrochlorothiazide: Thiazides can cross the placenta, and concentrations reached in the umbilical vein approach those in the maternal plasma. Hydrochlorothiazide, like other diuretics, can cause placental hypoperfusion. It accumulates in the amniotic fluid, with reported concentrations up to 19 times higher than in umbilical vein plasma. Use of thiazides during pregnancy is associated with a risk of fetal or neonatal jaundice or thrombocytopenia. Since they do not prevent or alter the course of EPH (Edema, Proteinuria, Hypertension) gestosis (pre-eclampsia), these drugs should not be used to treat hypertension in pregnant women. The use of hydrochlorothiazide for other indications (e.g., heart disease) in pregnancy should be avoided. Data Animal Data Valsartan Plus Hydrochlorothiazide There was no evidence of teratogenicity in mice, rats, or rabbits treated orally with valsartan at doses of up to 600, 100, and 10 mg/kg/day [9, 3.5 and 0.5 times the maximum recommended human dose (MRHD)], respectively, in combination with hydrochlorothiazide at doses up to 188, 31, and 3 mg/kg/day (38, 13 and 2 times the MRHD). Fetotoxicity was observed in association with maternal toxicity in rats at valsartan/hydrochlorothiazide doses of ≥ 200/63 mg/kg/day and in rabbits at valsartan/hydrochlorothiazide doses of 10/3 mg/kg/day. Evidence of fetotoxicity in rats consisted of decreased fetal weight and fetal variations of sternebrae, vertebrae, ribs, and/or renal papillae. Evidence of fetotoxicity in rabbits included increased numbers of late resorptions with resultant increases in total resorptions, post-implantation losses, and decreased number of live fetuses. 8.2 Lactation Risk Summary There is limited information regarding the presence of valsartan and hydrochlorothiazide in human milk, the effects on the breastfed infant, or the effects on milk production. Valsartan is present in rat milk. Hydrochlorothiazide is present in human breast milk. Because of the potential for serious adverse reactions in breastfed infants, advise a nursing woman that breastfeeding is not recommended during treatment with valsartan and hydrochlorothiazide tablets. Data Valsartan was detected in the milk of lactating rats 15 minutes after oral administration of a 3 mg/kg dose. 8.4 Pediatric Use Safety and effectiveness of valsartan and hydrochlorothiazide in pediatric patients have not been established. 8.5 Geriatric Use In the controlled clinical trials of valsartan and hydrochlorothiazide tablets, 764 (17.5%) patients treated with valsartan-hydrochlorothiazide were ≥ 65 years and 118 (2.7%) were ≥ 75 years. No overall difference in the efficacy or safety of valsartan-hydrochlorothiazide was observed between these patients and younger patients, but greater sensitivity of some older individuals cannot be ruled out. 8.6 Renal Impairment Safety and effectiveness of valsartan and hydrochlorothiazide tablets in patients with severe renal impairment (CrCl ≤ 30 mL/min) have not been established. No dose adjustment is required in patients with mild (CrCl 60 to 90 mL/min) or moderate (CrCl 30 to 60 mL/min) renal impairment. 8.7 Hepatic Impairment Valsartan No dose adjustment is necessary for patients with mild-to-moderate liver disease. No dosing recommendations can be provided for patients with severe liver disease. Hydrochlorothiazide Minor alterations of fluid and electrolyte balance may precipitate hepatic coma in patients with impaired hepatic function or progressive liver disease.']"
            ]
          },
          "metadata": {},
          "execution_count": 66
        }
      ]
    },
    {
      "cell_type": "markdown",
      "source": [
        "Augmentation"
      ],
      "metadata": {
        "id": "wRjaLlAl1UzW"
      }
    },
    {
      "cell_type": "code",
      "source": [
        "prompt_template = \"\"\"\n",
        "You are an expert medical assistant explaining medicine to someone without any prior knowledge.\n",
        "Use the provided context to answer the user's question accurately.\n",
        "\n",
        "Context: {context}\n",
        "\n",
        "Question: {question}\n",
        "\n",
        "Answer:\n",
        "\"\"\""
      ],
      "metadata": {
        "id": "40PYy5IBgbIT"
      },
      "execution_count": 67,
      "outputs": []
    },
    {
      "cell_type": "code",
      "source": [
        "prompt = PromptTemplate(template=prompt_template, input_variables=['context', 'question'])\n",
        "mistral_llm = HuggingFacePipeline(\n",
        "    pipeline=pipeline(\"text-generation\", model=model, tokenizer=tokenizer, max_new_tokens=300)\n",
        ")"
      ],
      "metadata": {
        "colab": {
          "base_uri": "https://localhost:8080/"
        },
        "id": "1vwlEEFRgb47",
        "outputId": "b0e6faff-1781-41d3-db42-8acf38027499"
      },
      "execution_count": 68,
      "outputs": [
        {
          "output_type": "stream",
          "name": "stderr",
          "text": [
            "Device set to use cuda:0\n"
          ]
        }
      ]
    },
    {
      "cell_type": "code",
      "source": [
        "qa_chain = prompt | mistral_llm"
      ],
      "metadata": {
        "id": "Qu8_z0ycgjGL"
      },
      "execution_count": 69,
      "outputs": []
    },
    {
      "cell_type": "markdown",
      "source": [
        "Generate"
      ],
      "metadata": {
        "id": "0PLULENq1XOO"
      }
    },
    {
      "cell_type": "code",
      "source": [
        "response = qa_chain.invoke({'context' : cleaned_context, 'question' : query})\n",
        "\n",
        "response"
      ],
      "metadata": {
        "colab": {
          "base_uri": "https://localhost:8080/",
          "height": 218
        },
        "id": "5R85NABnglTJ",
        "outputId": "b554b78d-3419-426e-9470-d51655fbc6fa"
      },
      "execution_count": 70,
      "outputs": [
        {
          "output_type": "stream",
          "name": "stderr",
          "text": [
            "Setting `pad_token_id` to `eos_token_id`:2 for open-end generation.\n"
          ]
        },
        {
          "output_type": "execute_result",
          "data": {
            "text/plain": [
              "\"\\nYou are an expert medical assistant explaining medicine to someone without any prior knowledge. \\nUse the provided context to answer the user's question accurately.\\n\\nContext: ['Name: HYDROCHLOROTHIAZIDE | Use in Specific Populations: Use in Pregnancy: Routine use of diuretics during normal pregnancy is inappropriate and exposes mother and fetus to unnecessary hazard. Diuretics do not prevent development of toxemia of pregnancy and there is no satisfactory evidence that they are useful in the treatment of toxemia. Edema during pregnancy may arise from pathologic causes or from the physiologic and mechanical consequences of pregnancy. Thiazides are indicated in pregnancy when edema is due to pathologic causes, just as they are in the absence of pregnancy (see PRECAUTIONS: Pregnancy ). Dependent edema in pregnancy, resulting from restriction of venous return by the gravid uterus, is properly treated through elevation of the lower extremities and use of support stockings. Use of diuretics to lower intravascular volume in this instance is illogical and unnecessary. During normal pregnancy there is hypervolemia which is not harmful to the fetus or the mother in the absence of cardiovascular disease. However, it may be associated with edema, rarely generalized edema. If such edema causes discomfort, increased recumbency will often provide relief. Rarely this edema may cause extreme discomfort which is not relieved by rest. In these instances, a short course of diuretic therapy may provide relief and be appropriate.', 'Name: VALSARTAN AND HYDROCHLOROTHIAZIDE | Use in Specific Populations: Lactation: Breastfeeding is not recommended ( 8.2 ) 8.1 Pregnancy Risk Summary Valsartan and hydrochlorothiazide can cause fetal harm when administered to a pregnant woman. Use of drugs that act on the renin-angiotensin system during the second and third trimesters of pregnancy reduces fetal renal function and increases fetal and neonatal morbidity and death. Most epidemiologic studies examining fetal abnormalities after exposure to antihypertensive use in the first trimester have not distinguished drugs affecting the renin-angiotensin system from other antihypertensive agents. Published reports include cases of anhydramnios and oligohydramnios in pregnant women treated with valsartan ( see Clinical Considerations ). When pregnancy is detected discontinue valsartan and hydrochlorothiazide as soon as possible. The estimated background risk of major birth defects and miscarriage for the indicated population is unknown. All pregnancies have a background risk of birth defect, loss, or other adverse outcomes. In the U.S. general population, the estimated background risk of major birth defects and miscarriage in clinically recognized pregnancies is 2 to 4% and 15 to 20%, respectively. Clinical Considerations Disease-associated maternal and/or embryo/fetal risk Hypertension in pregnancy increases the maternal risk for pre-eclampsia, gestational diabetes, premature delivery, and delivery complications (e.g., need for cesarean section and post-partum hemorrhage). Hypertension increases the fetal risk for intrauterine growth restriction and intrauterine death. Pregnant women with hypertension should be carefully monitored and managed accordingly. Fetal/Neonatal Adverse Reactions Valsartan Oligohydramnios in pregnant women who use drugs affecting the renin-angiotensin system in the second and third trimesters of pregnancy can result in the following: reduced fetal renal function leading to anuria and renal failure, fetal lung hypoplasia, skeletal deformations, including skull hypoplasia, hypotension and death. Perform serial ultrasound examinations to assess the intra-amniotic environment. Fetal testing may be appropriate, based on the week of gestation. Patients and physicians should be aware, however, that oligohydramnios may not appear until after the fetus has sustained irreversible injury. If oligohydramnios is observed, consider alternative drug treatment. Closely observe neonates with histories of in utero exposure to valsartan and hydrochlorothiazide for hypotension, oliguria, and hyperkalemia. In neonates with a history of in utero exposure to valsartan and hydrochlorothiazide, if oliguria or hypotension occurs, support blood pressure and renal perfusion. Exchange transfusions or dialysis may be required as a means of reversing hypotension and replacing renal function. Hydrochlorothiazide Thiazides can cross the placenta, and concentrations reached in the umbilical vein approach those in the maternal plasma. Hydrochlorothiazide, like other diuretics, can cause placental hypoperfusion. It accumulates in the amniotic fluid, with reported concentrations up to 19 times higher than in umbilical vein plasma. Use of thiazides during pregnancy is associated with a risk of fetal or neonatal jaundice or thrombocytopenia. Since they do not prevent or alter the course of EPH (Edema, Proteinuria, Hypertension) gestosis (pre-eclampsia), these drugs should not be used to treat hypertension in pregnant women. The use of hydrochlorothiazide for other indications (e.g., heart disease) in pregnancy should be avoided. Data Animal Data Valsartan plus Hydrochlorothiazide There was no evidence of teratogenicity in mice, rats, or rabbits treated orally with valsartan at doses of up to 600, 100, and 10 mg/kg/day [9, 3.5 and 0.5 times the maximum recommended human dose (MRHD)], respectively, in combination with hydrochlorothiazide at doses up to 188, 31, and 3 mg/kg/day (38, 13 and 2 times the MRHD). Fetotoxicity was observed in association with maternal toxicity in rats at valsartan/hydrochlorothiazide doses of ≥200/63 mg/kg/day and in rabbits at valsartan/hydrochlorothiazide doses of 10/3 mg/kg/day. Evidence of fetotoxicity in rats consisted of decreased fetal weight and fetal variations of sternebrae, vertebrae, ribs, and/or renal papillae. Evidence of fetotoxicity in rabbits included increased numbers of late resorptions with resultant increases in total resorptions, post-implantation losses, and decreased number of live fetuses. 8.2 Lactation Risk Summary There is limited information regarding the presence of valsartan and hydrochlorothiazide in human milk, the effects on the breastfed infant, or the effects on milk production. Valsartan is present in rat milk. Hydrochlorothiazide is present in human breast milk. Because of the potential for serious adverse reactions in breastfed infants, advise a nursing woman that breastfeeding is not recommended during treatment with valsartan and hydrochlorothiazide. Data Valsartan was detected in the milk of lactating rats 15 minutes after oral administration of a 3 mg/kg dose. 8.4 Pediatric Use Safety and effectiveness of valsartan and hydrochlorothiazide in pediatric patients have not been established. 8.5 Geriatric Use In the controlled clinical trials of valsartan and hydrochlorothiazide, 764 (17.5%) of patients treated with valsartan-hydrochlorothiazide were ≥65 years and 118 (2.7%) were ≥75 years. No overall difference in the efficacy or safety of valsartan-hydrochlorothiazide was observed between these patients and younger patients, but greater sensitivity of some older individuals cannot be ruled out. 8.6 Renal Impairment Safety and effectiveness of valsartan and hydrochlorothiazide in patients with severe renal impairment (CrCl ≤ 30 mL/min) have not been established. No dose adjustment is required in patients with mild (CrCl 60 to 90 mL/min) or moderate (CrCl 30 to 60 mL/min) renal impairment. 8.7 Hepatic Impairment Valsartan No dose adjustment is necessary for patients with mild-to-moderate liver disease. No dosing recommendations can be provided for patients with severe liver disease. Hydrochlorothiazide Minor alterations of fluid and electrolyte balance may precipitate hepatic coma in patients with impaired hepatic function or progressive liver disease.', 'Name: VALSARTAN AND HYDROCHLOROTHIAZIDE | Use in Specific Populations: Lactation: Breastfeeding is not recommended ( 8.2 ) 8.1 Pregnancy Risk Summary Valsartan and hydrochlorothiazide tablets can cause fetal harm when administered to a pregnant woman. Use of drugs that act on the renin-angiotensin system during the second and third trimesters of pregnancy reduces fetal renal function and increases fetal and neonatal morbidity and death. Most epidemiologic studies examining fetal abnormalities after exposure to antihypertensive use in the first trimester have not distinguished drugs affecting the renin-angiotensin system from other antihypertensive agents. Published reports include cases of anhydramnios and oligohydramnios in pregnant women treated with valsartan [see Clinical Considerations ] . When pregnancy is detected discontinue valsartan and hydrochlorothiazide tablets as soon as possible. The estimated background risk of major birth defects and miscarriage for the indicated population is unknown. All pregnancies have a background risk of birth defect, loss, or other adverse outcomes. In the U.S. general population, the estimated background risk of major birth defects and miscarriage in clinically recognized pregnancies is 2-4% and 15-20%, respectively. Clinical Considerations Disease-Associated Maternal and/or Embryo/Fetal Risk Hypertension in pregnancy increases the maternal risk for pre-eclampsia, gestational diabetes, premature delivery, and delivery complications (e.g., need for cesarean section and post-partum hemorrhage). Hypertension increases the fetal risk for intrauterine growth restriction and intrauterine death. Pregnant women with hypertension should be carefully monitored and managed accordingly. Fetal/Neonatal Adverse Reactions Valsartan: Oligohydramnios in pregnant women who use drugs affecting the renin-angiotensin system in the second and third trimesters of pregnancy can result in the following: reduced fetal renal function leading to anuria and renal failure, fetal lung hypoplasia, skeletal deformations, including skull hypoplasia, hypotension and death. Perform serial ultrasound examinations to assess the intra-amniotic environment. Fetal testing may be appropriate, based on the week of gestation. Patients and physicians should be aware, however, that oligohydramnios may not appear until after the fetus has sustained irreversible injury. If oligohydramnios is observed, consider alternative drug treatment. Closely observe neonates with histories of in utero exposure to valsartan and hydrochlorothiazide tablets for hypotension, oliguria, and hyperkalemia. In neonates with a history of in utero exposure to valsartan and hydrochlorothiazide tablets, if oliguria or hypotension occurs, support blood pressure and renal perfusion. Exchange transfusions or dialysis may be required as a means of reversing hypotension and replacing renal function. Hydrochlorothiazide: Thiazides can cross the placenta, and concentrations reached in the umbilical vein approach those in the maternal plasma. Hydrochlorothiazide, like other diuretics, can cause placental hypoperfusion. It accumulates in the amniotic fluid, with reported concentrations up to 19 times higher than in umbilical vein plasma. Use of thiazides during pregnancy is associated with a risk of fetal or neonatal jaundice or thrombocytopenia. Since they do not prevent or alter the course of EPH (Edema, Proteinuria, Hypertension) gestosis (pre-eclampsia), these drugs should not be used to treat hypertension in pregnant women. The use of hydrochlorothiazide for other indications (e.g., heart disease) in pregnancy should be avoided. Data Animal Data Valsartan Plus Hydrochlorothiazide There was no evidence of teratogenicity in mice, rats, or rabbits treated orally with valsartan at doses of up to 600, 100, and 10 mg/kg/day [9, 3.5 and 0.5 times the maximum recommended human dose (MRHD)], respectively, in combination with hydrochlorothiazide at doses up to 188, 31, and 3 mg/kg/day (38, 13 and 2 times the MRHD). Fetotoxicity was observed in association with maternal toxicity in rats at valsartan/hydrochlorothiazide doses of ≥ 200/63 mg/kg/day and in rabbits at valsartan/hydrochlorothiazide doses of 10/3 mg/kg/day. Evidence of fetotoxicity in rats consisted of decreased fetal weight and fetal variations of sternebrae, vertebrae, ribs, and/or renal papillae. Evidence of fetotoxicity in rabbits included increased numbers of late resorptions with resultant increases in total resorptions, post-implantation losses, and decreased number of live fetuses. 8.2 Lactation Risk Summary There is limited information regarding the presence of valsartan and hydrochlorothiazide in human milk, the effects on the breastfed infant, or the effects on milk production. Valsartan is present in rat milk. Hydrochlorothiazide is present in human breast milk. Because of the potential for serious adverse reactions in breastfed infants, advise a nursing woman that breastfeeding is not recommended during treatment with valsartan and hydrochlorothiazide tablets. Data Valsartan was detected in the milk of lactating rats 15 minutes after oral administration of a 3 mg/kg dose. 8.4 Pediatric Use Safety and effectiveness of valsartan and hydrochlorothiazide in pediatric patients have not been established. 8.5 Geriatric Use In the controlled clinical trials of valsartan and hydrochlorothiazide tablets, 764 (17.5%) patients treated with valsartan-hydrochlorothiazide were ≥ 65 years and 118 (2.7%) were ≥ 75 years. No overall difference in the efficacy or safety of valsartan-hydrochlorothiazide was observed between these patients and younger patients, but greater sensitivity of some older individuals cannot be ruled out. 8.6 Renal Impairment Safety and effectiveness of valsartan and hydrochlorothiazide tablets in patients with severe renal impairment (CrCl ≤ 30 mL/min) have not been established. No dose adjustment is required in patients with mild (CrCl 60 to 90 mL/min) or moderate (CrCl 30 to 60 mL/min) renal impairment. 8.7 Hepatic Impairment Valsartan No dose adjustment is necessary for patients with mild-to-moderate liver disease. No dosing recommendations can be provided for patients with severe liver disease. Hydrochlorothiazide Minor alterations of fluid and electrolyte balance may precipitate hepatic coma in patients with impaired hepatic function or progressive liver disease.']\\n\\nQuestion: Can you take HYDROCHLOROTHIAZIDE if you are pregnant?\\n\\nAnswer:\\nRoutine use of HYDuring pregnancy is not recommended during pregnancy. The use of HYDROCHLOROTHZINE is not recommended for routine use during pregnancy. It is not recommended during pregnancy. Pregnancy. HYD is not recommended for pregnant women. It is not recommended to use of HYDuring pregnancy. It is not recommended for routine use of HYDuring pregnancy.\\n\\n\\n\\n\\n\\nIn pregnancy, Hydrochlorithiazide is not recommended for pregnant women who are not recommended during pregnancy.\\n\\n\\n\\n\\n\\n\\nThe use of Hydrochlorothiazide.\\n\\n\\n\\n\\n\\nThe use of HYDuring pregnancy.\\n\\n\\n\\n\\n\\n\\n\\n\\n\\n\\n\\n\\n\\n\\n\\n\\n\\n\\n\\n\\n\\nThe use of HYD\\n\\n\\n\\nThe use of Hydrochloro\\n\\nThe use of HY\\n\\n\\n\\nThe use of HydrochlorotHydrochlorothiazide\\n\\nThe\\n\\n\\n\\nThe use of Hydrochloro\\n\\n\\nThe use of Hydrochlorin\\n\\n\\n\\n\\n\\nThe\\n\\n\\nThe\\n\\n\\n\\n\\n\\n\\n\\nthe\\n\\n\\n\\n\\n\\n\\n\\n\\n\\nThe\\n\\n\\n\\n\\nThe\\nThe\\nThe\\nof\\n\\n\\n\\n\\n\\n\\n\\n\\n\\n\\n\\n\\n\\n\\n\\n\""
            ],
            "application/vnd.google.colaboratory.intrinsic+json": {
              "type": "string"
            }
          },
          "metadata": {},
          "execution_count": 70
        }
      ]
    },
    {
      "cell_type": "code",
      "source": [
        "def extract_answer(text):\n",
        "    # Ensure \"Answer: \" exists in the string\n",
        "    if \"Answer:\" in text:\n",
        "        return text.split(\"Answer:\", 1)[1]"
      ],
      "metadata": {
        "id": "3nWsLQnusk8k"
      },
      "execution_count": 71,
      "outputs": []
    },
    {
      "cell_type": "code",
      "source": [
        "result = extract_answer(response)\n",
        "result"
      ],
      "metadata": {
        "colab": {
          "base_uri": "https://localhost:8080/",
          "height": 182
        },
        "id": "4GCA5pIFslrn",
        "outputId": "ac36a10e-9caa-450d-8a94-ec5b1983b070"
      },
      "execution_count": 72,
      "outputs": [
        {
          "output_type": "execute_result",
          "data": {
            "text/plain": [
              "'\\nRoutine use of HYDuring pregnancy is not recommended during pregnancy. The use of HYDROCHLOROTHZINE is not recommended for routine use during pregnancy. It is not recommended during pregnancy. Pregnancy. HYD is not recommended for pregnant women. It is not recommended to use of HYDuring pregnancy. It is not recommended for routine use of HYDuring pregnancy.\\n\\n\\n\\n\\n\\nIn pregnancy, Hydrochlorithiazide is not recommended for pregnant women who are not recommended during pregnancy.\\n\\n\\n\\n\\n\\n\\nThe use of Hydrochlorothiazide.\\n\\n\\n\\n\\n\\nThe use of HYDuring pregnancy.\\n\\n\\n\\n\\n\\n\\n\\n\\n\\n\\n\\n\\n\\n\\n\\n\\n\\n\\n\\n\\n\\nThe use of HYD\\n\\n\\n\\nThe use of Hydrochloro\\n\\nThe use of HY\\n\\n\\n\\nThe use of HydrochlorotHydrochlorothiazide\\n\\nThe\\n\\n\\n\\nThe use of Hydrochloro\\n\\n\\nThe use of Hydrochlorin\\n\\n\\n\\n\\n\\nThe\\n\\n\\nThe\\n\\n\\n\\n\\n\\n\\n\\nthe\\n\\n\\n\\n\\n\\n\\n\\n\\n\\nThe\\n\\n\\n\\n\\nThe\\nThe\\nThe\\nof\\n\\n\\n\\n\\n\\n\\n\\n\\n\\n\\n\\n\\n\\n\\n\\n'"
            ],
            "application/vnd.google.colaboratory.intrinsic+json": {
              "type": "string"
            }
          },
          "metadata": {},
          "execution_count": 72
        }
      ]
    },
    {
      "cell_type": "markdown",
      "source": [
        "Testing cosine similarity of the context"
      ],
      "metadata": {
        "id": "J5kH4hfT0_YY"
      }
    },
    {
      "cell_type": "code",
      "source": [
        "from sklearn.metrics.pairwise import cosine_similarity\n",
        "import numpy as np\n",
        "\n",
        "embedded_context = embed_model.encode(cleaned_context)\n",
        "similarity_scores = cosine_similarity(embed_query, embedded_context)\n",
        "\n",
        "for score in similarity_scores:\n",
        "  print(score)\n"
      ],
      "metadata": {
        "colab": {
          "base_uri": "https://localhost:8080/"
        },
        "id": "DAAx6IXVzFyK",
        "outputId": "c7c3a689-0211-4681-d3df-1eb74412fba3"
      },
      "execution_count": 73,
      "outputs": [
        {
          "output_type": "stream",
          "name": "stdout",
          "text": [
            "[0.80863949 0.77278659 0.7724666 ]\n"
          ]
        }
      ]
    },
    {
      "cell_type": "code",
      "source": [
        "# Insert text below to test cosine similarity\n",
        "text = \"BENZOCAINE,Summary of BENZOCAINE | Uses: Use for the temporary relief of pain due to toothaches * to help protect against infection of minor oral irritation and  |  and  | Reactions: ,,,Name: BENZOCAINE | Dosage and Administration: Directions cut open tip of tube on score mark * adults and children 2 years of age and older: apply a small amount of product to the cavity and around the gum surrounding the teeth. Use up to 4 times daily or as directed by a dentist or doctor * children under 12 years of age should be supervised in the use of this product * children under 2 years of age: do not use\""
      ],
      "metadata": {
        "id": "4EgwiVy-1HAs"
      },
      "execution_count": null,
      "outputs": []
    },
    {
      "cell_type": "code",
      "source": [
        "embed_text = embed_model.encode(text)\n",
        "embed_text = embed_text.reshape(1, -1)\n",
        "embed_query = embed_query.reshape(1, -1)\n",
        "\n",
        "similarity_scores = cosine_similarity(embed_text, embed_query)\n",
        "\n",
        "print(similarity_scores)"
      ],
      "metadata": {
        "colab": {
          "base_uri": "https://localhost:8080/"
        },
        "id": "ZKYUI-ZQ0Lv7",
        "outputId": "81ebeb5c-2e68-4246-a6ed-e3831ed011d0"
      },
      "execution_count": 59,
      "outputs": [
        {
          "output_type": "stream",
          "name": "stdout",
          "text": [
            "[[0.64219971]]\n"
          ]
        }
      ]
    }
  ]
}